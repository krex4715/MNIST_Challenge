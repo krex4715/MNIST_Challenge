{
 "cells": [
  {
   "cell_type": "code",
   "execution_count": 1,
   "metadata": {},
   "outputs": [],
   "source": [
    "import pandas as pd\n",
    "import numpy as np\n",
    "import time\n",
    "\n",
    "import torch\n",
    "from torch import nn\n",
    "from torch import optim\n",
    "from torch.utils.data import TensorDataset\n",
    "from torch.utils.data import DataLoader\n",
    "import torchvision.transforms as transforms\n",
    "from torchvision.datasets import ImageFolder\n",
    "\n"
   ]
  },
  {
   "cell_type": "code",
   "execution_count": 2,
   "metadata": {},
   "outputs": [],
   "source": [
    "# visualization\n",
    "\n",
    "from tqdm import notebook\n",
    "from matplotlib.legend_handler import HandlerLine2D\n",
    "import matplotlib.pyplot as plt\n",
    "%matplotlib inline\n",
    "\n"
   ]
  },
  {
   "cell_type": "code",
   "execution_count": 3,
   "metadata": {},
   "outputs": [],
   "source": [
    "# tensorboard\n",
    "from torch.utils.tensorboard import SummaryWriter\n",
    "writer = SummaryWriter()\n",
    "\n",
    "import gc\n"
   ]
  },
  {
   "cell_type": "code",
   "execution_count": 4,
   "metadata": {},
   "outputs": [
    {
     "name": "stdout",
     "output_type": "stream",
     "text": [
      "Device: cuda\n",
      "Current cuda device: 0\n",
      "Count of using GPUs: 1\n"
     ]
    },
    {
     "data": {
      "text/plain": [
       "<torch._C.Generator at 0x7f402883ee30>"
      ]
     },
     "execution_count": 4,
     "metadata": {},
     "output_type": "execute_result"
    }
   ],
   "source": [
    "device = torch.device(\"cuda\" if torch.cuda.is_available() else \"cpu\")\n",
    "\n",
    "print('Device:', device)\n",
    "print('Current cuda device:', torch.cuda.current_device())\n",
    "print('Count of using GPUs:', torch.cuda.device_count())\n",
    "torch.manual_seed(777)"
   ]
  },
  {
   "cell_type": "code",
   "execution_count": 5,
   "metadata": {},
   "outputs": [],
   "source": [
    "from matplotlib import pyplot as plt\n",
    "def print_image(img) :\n",
    "    plt.imshow(img)\n",
    "    plt.show()"
   ]
  },
  {
   "cell_type": "code",
   "execution_count": 6,
   "metadata": {},
   "outputs": [],
   "source": [
    "def clear_gpu() :\n",
    "    torch.cuda.empty_cache()\n",
    "    gc.collect()"
   ]
  },
  {
   "cell_type": "code",
   "execution_count": 7,
   "metadata": {},
   "outputs": [],
   "source": [
    "X_train = np.load('../dataset/Augmenteddata/X_train.npy')\n",
    "y_train = np.load('../dataset/Augmenteddata/y_train.npy')\n",
    "X_test = np.load('../dataset/Augmenteddata/X_test.npy')\n",
    "y_test = np.load('../dataset/Augmenteddata/y_test.npy')\n",
    "X_train = X_train/255\n",
    "X_test = X_test/255"
   ]
  },
  {
   "cell_type": "code",
   "execution_count": null,
   "metadata": {},
   "outputs": [],
   "source": []
  },
  {
   "cell_type": "code",
   "execution_count": 8,
   "metadata": {},
   "outputs": [
    {
     "data": {
      "image/png": "[encoded data removed]",
      "text/plain": [
       "<Figure size 432x288 with 1 Axes>"
      ]
     },
     "metadata": {
      "needs_background": "light"
     },
     "output_type": "display_data"
    },
    {
     "name": "stdout",
     "output_type": "stream",
     "text": [
      "5\n",
      "[0.20392157 0.28235294 0.54901961]\n"
     ]
    }
   ],
   "source": [
    "i = 10010\n",
    "print_image(X_train[i])\n",
    "print(y_train[i])\n",
    "print(X_train[i,20,20,:])"
   ]
  },
  {
   "cell_type": "code",
   "execution_count": 9,
   "metadata": {},
   "outputs": [
    {
     "name": "stdout",
     "output_type": "stream",
     "text": [
      "345000\n",
      "345000\n",
      "15000\n",
      "15000\n"
     ]
    }
   ],
   "source": [
    "print(len(X_train))\n",
    "print(len(y_train))\n",
    "print(len(X_test))\n",
    "print(len(y_test))"
   ]
  },
  {
   "cell_type": "code",
   "execution_count": null,
   "metadata": {},
   "outputs": [],
   "source": []
  },
  {
   "cell_type": "code",
   "execution_count": 10,
   "metadata": {},
   "outputs": [],
   "source": [
    "X_train_tensor = torch.Tensor(X_train).reshape([-1,28,28,3]).to(device)\n",
    "X_test_tensor = torch.Tensor(X_test).reshape([-1,28,28,3]).to(device)\n",
    "\n",
    "y_train_tensor = torch.Tensor(y_train).to(device)\n",
    "y_test_tensor = torch.Tensor(y_test).to(device)"
   ]
  },
  {
   "cell_type": "code",
   "execution_count": 11,
   "metadata": {},
   "outputs": [],
   "source": [
    "from torch.utils.data import TensorDataset, DataLoader\n",
    "train_ds = TensorDataset(X_train_tensor,y_train_tensor)\n",
    "test_ds = TensorDataset(X_test_tensor,y_test_tensor) "
   ]
  },
  {
   "cell_type": "code",
   "execution_count": 12,
   "metadata": {},
   "outputs": [],
   "source": [
    "def conv_layer(chann_in, chann_out, k_size, p_size):\n",
    "    layer = nn.Sequential(\n",
    "        nn.Conv2d(chann_in, chann_out, kernel_size=k_size, padding=p_size),\n",
    "        nn.BatchNorm2d(chann_out),\n",
    "        nn.ReLU()\n",
    "    )\n",
    "    return layer\n",
    "\n",
    "def vgg_conv_block(in_list, out_list, k_list, p_list, pooling_k, pooling_s):\n",
    "    layers = [ conv_layer(in_list[i], out_list[i], k_list[i], p_list[i]) for i in range(len(in_list)) ]\n",
    "    layers += [ nn.MaxPool2d(kernel_size = pooling_k, stride = pooling_s, ceil_mode=True)]\n",
    "    return nn.Sequential(*layers)\n",
    "\n",
    "def vgg_fc_layer(size_in, size_out, keep_prob, xavier=True):\n",
    "    linear = nn.Linear(size_in, size_out)\n",
    "    if xavier :\n",
    "        torch.nn.init.xavier_uniform_(linear.weight)\n",
    "    layer = nn.Sequential(\n",
    "        linear,\n",
    "        nn.BatchNorm1d(size_out),\n",
    "        nn.ReLU(),\n",
    "        nn.Dropout(p = 1 - keep_prob)\n",
    "    )\n",
    "    return layer\n",
    "\n",
    "\n",
    "\n",
    "class MyModule(nn.Module):\n",
    "    def __init__(self, keep_prob = 0.5, xavier = True):\n",
    "        super(MyModule, self).__init__()\n",
    "        # Conv blocks (BatchNorm + ReLU activation added in each block)\n",
    "        channels = [32, 64, 128]\n",
    "\n",
    "        self.layer1 = vgg_conv_block([3, channels[0]], [channels[0],channels[0]], [3,3], [0,0], 2, 2)\n",
    "        self.layer2 = vgg_conv_block([channels[0],channels[1]], [channels[1],channels[1]], [3,3], [0,0], 2, 2)\n",
    "        self.layer3 = vgg_conv_block([channels[1],channels[2]], [channels[2],channels[2]], [3,3], [1,0], 2, 2)\n",
    "\n",
    "        # FC layers\n",
    "        self.layer4 = vgg_fc_layer(channels[2], 1024, keep_prob = keep_prob,xavier = xavier)\n",
    "        self.layer5 = vgg_fc_layer(1024, 800, keep_prob = keep_prob, xavier= xavier)\n",
    "\n",
    "        # Final layer\n",
    "        self.layer6 = nn.Linear(800, 10)\n",
    "\n",
    "    def forward(self, x):\n",
    "        x = x.permute(0,3,1,2)\n",
    "        out = self.layer1(x)\n",
    "        out = self.layer2(out)\n",
    "        vgg16_features = self.layer3(out)\n",
    "        out = vgg16_features.view(out.size(0), -1)\n",
    "        out = self.layer4(out)\n",
    "        out = self.layer5(out)\n",
    "        out = self.layer6(out)\n",
    "\n",
    "        return out\n"
   ]
  },
  {
   "cell_type": "code",
   "execution_count": 13,
   "metadata": {},
   "outputs": [],
   "source": [
    "class EarlyStopping:\n",
    "    \"\"\"주어진 patience 이후로 validation loss가 개선되지 않으면 학습을 조기 중지\"\"\"\n",
    "    def __init__(self, patience=7, verbose=False, delta=0, path='checkpoint.pt'):\n",
    "        \"\"\"\n",
    "        Args:\n",
    "            patience (int): validation loss가 개선된 후 기다리는 기간\n",
    "                            Default: 7\n",
    "            verbose (bool): True일 경우 각 validation loss의 개선 사항 메세지 출력\n",
    "                            Default: False\n",
    "            delta (float): 개선되었다고 인정되는 monitered quantity의 최소 변화\n",
    "                            Default: 0\n",
    "            path (str): checkpoint저장 경로\n",
    "                            Default: 'checkpoint.pt'\n",
    "        \"\"\"\n",
    "        self.patience = patience\n",
    "        self.verbose = verbose\n",
    "        self.counter = 0\n",
    "        self.best_score = None\n",
    "        self.early_stop = False\n",
    "        self.val_loss_min = np.Inf\n",
    "        self.delta = delta\n",
    "        self.path = path\n",
    "\n",
    "    def __call__(self, val_loss, model):\n",
    "\n",
    "        score = -val_loss\n",
    "\n",
    "        if self.best_score is None:\n",
    "            self.best_score = score\n",
    "            self.save_checkpoint(val_loss, model)\n",
    "        elif score < self.best_score + self.delta:\n",
    "            self.counter += 1\n",
    "            print(f'EarlyStopping counter: {self.counter} out of {self.patience}')\n",
    "            if self.counter >= self.patience:\n",
    "                self.early_stop = True\n",
    "        else:\n",
    "            self.best_score = score\n",
    "            self.save_checkpoint(val_loss, model)\n",
    "            self.counter = 0\n",
    "\n",
    "    def save_checkpoint(self, val_loss, model):\n",
    "        '''validation loss가 감소하면 모델을 저장한다.'''\n",
    "        if self.verbose:\n",
    "            print(f'Validation loss decreased ({self.val_loss_min:.6f} --> {val_loss:.6f}).  Saving model ...')\n",
    "        torch.save(model.state_dict(), 'model_AUG/'+self.path)\n",
    "        self.val_loss_min = val_loss\n"
   ]
  },
  {
   "cell_type": "code",
   "execution_count": 14,
   "metadata": {},
   "outputs": [],
   "source": [
    "import tqdm\n",
    "\n",
    "# model과 관련있는 함수들\n",
    "def get_model(lr = 0.01, keep_prob = 0.5, xavier = True, weight_decay = 0.005):\n",
    "    model = MyModule(keep_prob, xavier)\n",
    "    optimizer = optim.Adam(model.parameters(), lr=lr, weight_decay = weight_decay)\n",
    "    scheduler = torch.optim.lr_scheduler.ReduceLROnPlateau(optimizer, patience = 4)\n",
    "    return model.to(device), optimizer, scheduler\n",
    "'''\n",
    "opt 인자를 이용해 train과 valid의 동작을 다르게 해준다.\n",
    "train : return [loss, learning_rate]\n",
    "eval : return [loss]\n",
    "'''\n",
    "def loss_batch(model, loss_func, xb, yb, opt=None):\n",
    "    out = []\n",
    "    loss = loss_func(model(xb), yb)\n",
    "    if opt is not None:\n",
    "        loss.backward()\n",
    "        opt.step()\n",
    "        opt.zero_grad()\n",
    "        out.append(opt.param_groups[0]['lr'])\n",
    "    out.append(loss.item())\n",
    "    return out\n",
    "\n",
    "\n",
    "def fit(epochs, model, loss_func, opt, scheduler, train_dl, valid_dl, path):\n",
    "    start = time.time()\n",
    "    train_loss = []\n",
    "    valid_loss = []\n",
    "\n",
    "    # earlystopping\n",
    "    early_stopping = EarlyStopping(patience = 8, verbose = True, delta=0.0001, path = path+'_checkpoint.pt')\n",
    "\n",
    "    # tqdm을 이용해 반복문 과정을 시각화 해준다.\n",
    "    for epoch in tqdm.tqdm(range(epochs), desc = 'Epoch'):\n",
    "        model.train()\n",
    "        loss = []\n",
    "        for xb, yb in tqdm.tqdm(train_dl, desc = 'train'):\n",
    "            lr, l = loss_batch(model, loss_func, xb, yb, opt)\n",
    "            loss.append(l)\n",
    "        print(\"[Epoch: %d], train avg_loss: %f\" % (epoch, (avg_loss := sum(loss)/len(loss))))\n",
    "        train_loss.append(avg_loss)\n",
    "        # train 결과물 write to tensorboard\n",
    "        writer.add_scalar('{}/Loss/train'.format(path), avg_loss, epoch)\n",
    "        writer.add_scalar('{}/learning_rate'.format(path), lr, epoch)\n",
    "\n",
    "        model.eval()\n",
    "        loss = []\n",
    "        with torch.no_grad() :\n",
    "            for xb, yb in tqdm.tqdm(valid_dl, desc = 'valid') :\n",
    "                l = loss_batch(model, loss_func, xb, yb)[0]\n",
    "                loss.append(l)\n",
    "        print(\"[Epoch: %d], valid avg_loss: %f\" % (epoch, (avg_loss := sum(loss)/len(loss))))\n",
    "        valid_loss.append(avg_loss)\n",
    "        # valid 결과물 write to tensorboard\n",
    "        writer.add_scalar('{}/Loss/valid'.format(path), avg_loss, epoch)\n",
    "\n",
    "        # scheduler 및 earlystopping\n",
    "        scheduler.step(avg_loss)\n",
    "        early_stopping(avg_loss, model)\n",
    "        print('-'*50)\n",
    "        if early_stopping.early_stop:\n",
    "            print(\"Early stopping\")\n",
    "            break\n",
    "\n",
    "    print(\"cost time :\", time.time() - start)      \n",
    "    writer.flush()\n",
    "    model.load_state_dict(torch.load('model_AUG/'+path+'_checkpoint.pt'))\n",
    "    return model, train_loss, valid_loss\n"
   ]
  },
  {
   "cell_type": "code",
   "execution_count": 15,
   "metadata": {},
   "outputs": [],
   "source": [
    "def get_data(train_ds, valid_ds, bs):\n",
    "    return (\n",
    "        DataLoader(train_ds, batch_size=bs, shuffle=True),\n",
    "        DataLoader(valid_ds, batch_size=bs * 2),\n",
    "    )\n",
    "\n",
    "def preprocess(x, y):\n",
    "    return x.to(device, dtype=torch.float), y.to(device, dtype=torch.long)\n",
    "\n",
    "\n",
    "class WrappedDataLoader:\n",
    "    def __init__(self, dl, func):\n",
    "        self.dl = dl\n",
    "        self.func = func\n",
    "\n",
    "    def __len__(self):\n",
    "        return len(self.dl)\n",
    "\n",
    "    def __iter__(self):\n",
    "        batches = iter(self.dl)\n",
    "        for b in batches:\n",
    "            yield (self.func(*b))\n"
   ]
  },
  {
   "cell_type": "code",
   "execution_count": 107,
   "metadata": {},
   "outputs": [],
   "source": [
    "# For Visualization\n",
    "\n",
    "def accuracy(data):\n",
    "    model.eval()\n",
    "    correct = 0\n",
    "    total = 0\n",
    "    with torch.no_grad():\n",
    "        for xb, yb in notebook.tqdm(data) :\n",
    "            output = model(xb)\n",
    "            pred = torch.argmax(output, dim = 1)\n",
    "            correct += (pred == yb).sum()\n",
    "            total += yb.size(0)\n",
    "    print(correct, total)\n",
    "    print(\"avg acc: %f\" % (100* correct/total))  \n",
    "    return correct / total * 100\n",
    "\n",
    "def loss_graph(train_loss, valid_loss) :\n",
    "    # 훈련이 진행되는 과정에 따라 loss를 시각화\n",
    "    fig = plt.figure(figsize=(10,8))\n",
    "    plt.plot(range(1,len(train_loss)+1),train_loss, label='Training Loss')\n",
    "    plt.plot(range(1,len(valid_loss)+1),valid_loss,label='Validation Loss')\n",
    "\n",
    "    # validation loss의 최저값 지점을 찾기\n",
    "    minposs = valid_loss.index(min(valid_loss))+1\n",
    "    plt.axvline(minposs, linestyle='--', color='r',label='Early Stopping Checkpoint')\n",
    "\n",
    "    plt.xlabel('epochs')\n",
    "    plt.ylabel('loss')\n",
    "    plt.grid(True)\n",
    "    plt.legend()\n",
    "    plt.tight_layout()\n",
    "    plt.show()\n",
    "    fig.savefig('model'+path+'-loss_plot.png', bbox_inches = 'tight')\n",
    "\n",
    "    print('lr : {}, keep_prob : {}, weight_decay : {}, layer : {}'.format(lr, keep_prob, weight_decay, layer))\n",
    "\n"
   ]
  },
  {
   "cell_type": "code",
   "execution_count": 108,
   "metadata": {},
   "outputs": [],
   "source": [
    "# Cross entropy loss func\n",
    "loss_func = nn.CrossEntropyLoss()\n",
    "\n",
    "# hyper parameters\n",
    "batch_size = 216\n",
    "epochs = 500\n",
    "lrs = [0.001, 0.0005]\n",
    "keep_probs = [0.85, 0.9]\n",
    "xavier = True\n",
    "weight_decays = [0.005, 0.001, 0.0005]\n",
    "\n",
    "# Dataset 정리\n",
    "train_dl, valid_dl = get_data(train_ds, test_ds, batch_size)\n",
    "train_dl = WrappedDataLoader(train_dl, preprocess)\n",
    "valid_dl = WrappedDataLoader(valid_dl, preprocess)\n"
   ]
  },
  {
   "cell_type": "code",
   "execution_count": 18,
   "metadata": {},
   "outputs": [],
   "source": [
    "from torch.utils.tensorboard import SummaryWriter\n",
    "writer = SummaryWriter('runs/3D_MNIST')\n"
   ]
  },
  {
   "cell_type": "code",
   "execution_count": 19,
   "metadata": {},
   "outputs": [],
   "source": [
    "import gc\n",
    "gc.collect()\n",
    "torch.cuda.empty_cache()"
   ]
  },
  {
   "cell_type": "code",
   "execution_count": 27,
   "metadata": {},
   "outputs": [
    {
     "name": "stderr",
     "output_type": "stream",
     "text": [
      "Epoch:   0%|          | 0/500 [00:00<?, ?it/s]/home/krex/anaconda3/envs/krex_3.9/lib/python3.9/site-packages/torch/nn/functional.py:780: UserWarning: Note that order of the arguments: ceil_mode and return_indices will changeto match the args list in nn.MaxPool2d in a future release.\n",
      "  warnings.warn(\"Note that order of the arguments: ceil_mode and return_indices will change\"\n",
      "train: 100%|██████████| 1598/1598 [00:33<00:00, 47.35it/s]\n"
     ]
    },
    {
     "name": "stdout",
     "output_type": "stream",
     "text": [
      "[Epoch: 0], train avg_loss: 0.251031\n"
     ]
    },
    {
     "name": "stderr",
     "output_type": "stream",
     "text": [
      "valid: 100%|██████████| 35/35 [00:00<00:00, 110.00it/s]\n",
      "Epoch:   0%|          | 1/500 [00:34<4:43:31, 34.09s/it]"
     ]
    },
    {
     "name": "stdout",
     "output_type": "stream",
     "text": [
      "[Epoch: 0], valid avg_loss: 0.179626\n",
      "Validation loss decreased (inf --> 0.179626).  Saving model ...\n",
      "--------------------------------------------------\n"
     ]
    },
    {
     "name": "stderr",
     "output_type": "stream",
     "text": [
      "train: 100%|██████████| 1598/1598 [00:29<00:00, 53.32it/s]\n"
     ]
    },
    {
     "name": "stdout",
     "output_type": "stream",
     "text": [
      "[Epoch: 1], train avg_loss: 0.131729\n"
     ]
    },
    {
     "name": "stderr",
     "output_type": "stream",
     "text": [
      "valid: 100%|██████████| 35/35 [00:00<00:00, 104.12it/s]\n",
      "Epoch:   0%|          | 2/500 [01:04<4:24:38, 31.88s/it]"
     ]
    },
    {
     "name": "stdout",
     "output_type": "stream",
     "text": [
      "[Epoch: 1], valid avg_loss: 0.128852\n",
      "Validation loss decreased (0.179626 --> 0.128852).  Saving model ...\n",
      "--------------------------------------------------\n"
     ]
    },
    {
     "name": "stderr",
     "output_type": "stream",
     "text": [
      "train: 100%|██████████| 1598/1598 [00:30<00:00, 52.99it/s]\n"
     ]
    },
    {
     "name": "stdout",
     "output_type": "stream",
     "text": [
      "[Epoch: 2], train avg_loss: 0.119658\n"
     ]
    },
    {
     "name": "stderr",
     "output_type": "stream",
     "text": [
      "valid: 100%|██████████| 35/35 [00:00<00:00, 99.56it/s] \n",
      "Epoch:   1%|          | 3/500 [01:34<4:19:00, 31.27s/it]"
     ]
    },
    {
     "name": "stdout",
     "output_type": "stream",
     "text": [
      "[Epoch: 2], valid avg_loss: 0.127595\n",
      "Validation loss decreased (0.128852 --> 0.127595).  Saving model ...\n",
      "--------------------------------------------------\n"
     ]
    },
    {
     "name": "stderr",
     "output_type": "stream",
     "text": [
      "train: 100%|██████████| 1598/1598 [00:29<00:00, 53.45it/s]\n"
     ]
    },
    {
     "name": "stdout",
     "output_type": "stream",
     "text": [
      "[Epoch: 3], train avg_loss: 0.114501\n"
     ]
    },
    {
     "name": "stderr",
     "output_type": "stream",
     "text": [
      "valid: 100%|██████████| 35/35 [00:00<00:00, 106.88it/s]\n",
      "Epoch:   1%|          | 4/500 [02:05<4:15:08, 30.86s/it]"
     ]
    },
    {
     "name": "stdout",
     "output_type": "stream",
     "text": [
      "[Epoch: 3], valid avg_loss: 0.145185\n",
      "EarlyStopping counter: 1 out of 8\n",
      "--------------------------------------------------\n"
     ]
    },
    {
     "name": "stderr",
     "output_type": "stream",
     "text": [
      "train: 100%|██████████| 1598/1598 [00:29<00:00, 53.94it/s]\n"
     ]
    },
    {
     "name": "stdout",
     "output_type": "stream",
     "text": [
      "[Epoch: 4], train avg_loss: 0.111255\n"
     ]
    },
    {
     "name": "stderr",
     "output_type": "stream",
     "text": [
      "valid: 100%|██████████| 35/35 [00:00<00:00, 105.86it/s]\n",
      "Epoch:   1%|          | 5/500 [02:35<4:12:01, 30.55s/it]"
     ]
    },
    {
     "name": "stdout",
     "output_type": "stream",
     "text": [
      "[Epoch: 4], valid avg_loss: 0.100738\n",
      "Validation loss decreased (0.127595 --> 0.100738).  Saving model ...\n",
      "--------------------------------------------------\n"
     ]
    },
    {
     "name": "stderr",
     "output_type": "stream",
     "text": [
      "train: 100%|██████████| 1598/1598 [00:29<00:00, 53.82it/s]\n"
     ]
    },
    {
     "name": "stdout",
     "output_type": "stream",
     "text": [
      "[Epoch: 5], train avg_loss: 0.110839\n"
     ]
    },
    {
     "name": "stderr",
     "output_type": "stream",
     "text": [
      "valid: 100%|██████████| 35/35 [00:00<00:00, 103.98it/s]\n",
      "Epoch:   1%|          | 6/500 [03:05<4:10:06, 30.38s/it]"
     ]
    },
    {
     "name": "stdout",
     "output_type": "stream",
     "text": [
      "[Epoch: 5], valid avg_loss: 0.138153\n",
      "EarlyStopping counter: 1 out of 8\n",
      "--------------------------------------------------\n"
     ]
    },
    {
     "name": "stderr",
     "output_type": "stream",
     "text": [
      "train: 100%|██████████| 1598/1598 [00:29<00:00, 53.95it/s]\n"
     ]
    },
    {
     "name": "stdout",
     "output_type": "stream",
     "text": [
      "[Epoch: 6], train avg_loss: 0.109437\n"
     ]
    },
    {
     "name": "stderr",
     "output_type": "stream",
     "text": [
      "valid: 100%|██████████| 35/35 [00:00<00:00, 107.45it/s]\n",
      "Epoch:   1%|▏         | 7/500 [03:35<4:08:28, 30.24s/it]"
     ]
    },
    {
     "name": "stdout",
     "output_type": "stream",
     "text": [
      "[Epoch: 6], valid avg_loss: 0.111225\n",
      "EarlyStopping counter: 2 out of 8\n",
      "--------------------------------------------------\n"
     ]
    },
    {
     "name": "stderr",
     "output_type": "stream",
     "text": [
      "train: 100%|██████████| 1598/1598 [00:30<00:00, 52.81it/s]\n"
     ]
    },
    {
     "name": "stdout",
     "output_type": "stream",
     "text": [
      "[Epoch: 7], train avg_loss: 0.107394\n"
     ]
    },
    {
     "name": "stderr",
     "output_type": "stream",
     "text": [
      "valid: 100%|██████████| 35/35 [00:00<00:00, 108.25it/s]\n",
      "Epoch:   2%|▏         | 8/500 [04:05<4:08:54, 30.35s/it]"
     ]
    },
    {
     "name": "stdout",
     "output_type": "stream",
     "text": [
      "[Epoch: 7], valid avg_loss: 0.120978\n",
      "EarlyStopping counter: 3 out of 8\n",
      "--------------------------------------------------\n"
     ]
    },
    {
     "name": "stderr",
     "output_type": "stream",
     "text": [
      "train: 100%|██████████| 1598/1598 [00:30<00:00, 52.74it/s]\n"
     ]
    },
    {
     "name": "stdout",
     "output_type": "stream",
     "text": [
      "[Epoch: 8], train avg_loss: 0.108314\n"
     ]
    },
    {
     "name": "stderr",
     "output_type": "stream",
     "text": [
      "valid: 100%|██████████| 35/35 [00:00<00:00, 104.76it/s]\n",
      "Epoch:   2%|▏         | 9/500 [04:36<4:09:08, 30.44s/it]"
     ]
    },
    {
     "name": "stdout",
     "output_type": "stream",
     "text": [
      "[Epoch: 8], valid avg_loss: 0.106650\n",
      "EarlyStopping counter: 4 out of 8\n",
      "--------------------------------------------------\n"
     ]
    },
    {
     "name": "stderr",
     "output_type": "stream",
     "text": [
      "train: 100%|██████████| 1598/1598 [00:29<00:00, 53.86it/s]\n"
     ]
    },
    {
     "name": "stdout",
     "output_type": "stream",
     "text": [
      "[Epoch: 9], train avg_loss: 0.106773\n"
     ]
    },
    {
     "name": "stderr",
     "output_type": "stream",
     "text": [
      "valid: 100%|██████████| 35/35 [00:00<00:00, 107.45it/s]\n",
      "Epoch:   2%|▏         | 10/500 [05:06<4:07:34, 30.32s/it]"
     ]
    },
    {
     "name": "stdout",
     "output_type": "stream",
     "text": [
      "[Epoch: 9], valid avg_loss: 0.096026\n",
      "Validation loss decreased (0.100738 --> 0.096026).  Saving model ...\n",
      "--------------------------------------------------\n"
     ]
    },
    {
     "name": "stderr",
     "output_type": "stream",
     "text": [
      "train: 100%|██████████| 1598/1598 [00:29<00:00, 53.91it/s]\n"
     ]
    },
    {
     "name": "stdout",
     "output_type": "stream",
     "text": [
      "[Epoch: 10], train avg_loss: 0.108060\n"
     ]
    },
    {
     "name": "stderr",
     "output_type": "stream",
     "text": [
      "valid: 100%|██████████| 35/35 [00:00<00:00, 109.12it/s]\n",
      "Epoch:   2%|▏         | 11/500 [05:36<4:06:12, 30.21s/it]"
     ]
    },
    {
     "name": "stdout",
     "output_type": "stream",
     "text": [
      "[Epoch: 10], valid avg_loss: 0.107092\n",
      "EarlyStopping counter: 1 out of 8\n",
      "--------------------------------------------------\n"
     ]
    },
    {
     "name": "stderr",
     "output_type": "stream",
     "text": [
      "train: 100%|██████████| 1598/1598 [00:29<00:00, 53.62it/s]\n"
     ]
    },
    {
     "name": "stdout",
     "output_type": "stream",
     "text": [
      "[Epoch: 11], train avg_loss: 0.107284\n"
     ]
    },
    {
     "name": "stderr",
     "output_type": "stream",
     "text": [
      "valid: 100%|██████████| 35/35 [00:00<00:00, 105.06it/s]\n",
      "Epoch:   2%|▏         | 12/500 [06:06<4:05:33, 30.19s/it]"
     ]
    },
    {
     "name": "stdout",
     "output_type": "stream",
     "text": [
      "[Epoch: 11], valid avg_loss: 0.133684\n",
      "EarlyStopping counter: 2 out of 8\n",
      "--------------------------------------------------\n"
     ]
    },
    {
     "name": "stderr",
     "output_type": "stream",
     "text": [
      "train: 100%|██████████| 1598/1598 [00:30<00:00, 53.10it/s]\n"
     ]
    },
    {
     "name": "stdout",
     "output_type": "stream",
     "text": [
      "[Epoch: 12], train avg_loss: 0.106339\n"
     ]
    },
    {
     "name": "stderr",
     "output_type": "stream",
     "text": [
      "valid: 100%|██████████| 35/35 [00:00<00:00, 73.58it/s]\n",
      "Epoch:   3%|▎         | 13/500 [06:37<4:06:00, 30.31s/it]"
     ]
    },
    {
     "name": "stdout",
     "output_type": "stream",
     "text": [
      "[Epoch: 12], valid avg_loss: 0.113104\n",
      "EarlyStopping counter: 3 out of 8\n",
      "--------------------------------------------------\n"
     ]
    },
    {
     "name": "stderr",
     "output_type": "stream",
     "text": [
      "train: 100%|██████████| 1598/1598 [00:29<00:00, 53.37it/s]\n"
     ]
    },
    {
     "name": "stdout",
     "output_type": "stream",
     "text": [
      "[Epoch: 13], train avg_loss: 0.105334\n"
     ]
    },
    {
     "name": "stderr",
     "output_type": "stream",
     "text": [
      "valid: 100%|██████████| 35/35 [00:00<00:00, 105.10it/s]\n",
      "Epoch:   3%|▎         | 14/500 [07:07<4:05:27, 30.30s/it]"
     ]
    },
    {
     "name": "stdout",
     "output_type": "stream",
     "text": [
      "[Epoch: 13], valid avg_loss: 0.113606\n",
      "EarlyStopping counter: 4 out of 8\n",
      "--------------------------------------------------\n"
     ]
    },
    {
     "name": "stderr",
     "output_type": "stream",
     "text": [
      "train: 100%|██████████| 1598/1598 [00:29<00:00, 53.79it/s]\n"
     ]
    },
    {
     "name": "stdout",
     "output_type": "stream",
     "text": [
      "[Epoch: 14], train avg_loss: 0.105915\n"
     ]
    },
    {
     "name": "stderr",
     "output_type": "stream",
     "text": [
      "valid: 100%|██████████| 35/35 [00:00<00:00, 107.67it/s]\n",
      "Epoch:   3%|▎         | 15/500 [07:37<4:04:22, 30.23s/it]"
     ]
    },
    {
     "name": "stdout",
     "output_type": "stream",
     "text": [
      "[Epoch: 14], valid avg_loss: 0.092607\n",
      "Validation loss decreased (0.096026 --> 0.092607).  Saving model ...\n",
      "--------------------------------------------------\n"
     ]
    },
    {
     "name": "stderr",
     "output_type": "stream",
     "text": [
      "train: 100%|██████████| 1598/1598 [00:29<00:00, 53.77it/s]\n"
     ]
    },
    {
     "name": "stdout",
     "output_type": "stream",
     "text": [
      "[Epoch: 15], train avg_loss: 0.105996\n"
     ]
    },
    {
     "name": "stderr",
     "output_type": "stream",
     "text": [
      "valid: 100%|██████████| 35/35 [00:00<00:00, 105.69it/s]\n",
      "Epoch:   3%|▎         | 16/500 [08:07<4:03:27, 30.18s/it]"
     ]
    },
    {
     "name": "stdout",
     "output_type": "stream",
     "text": [
      "[Epoch: 15], valid avg_loss: 0.134395\n",
      "EarlyStopping counter: 1 out of 8\n",
      "--------------------------------------------------\n"
     ]
    },
    {
     "name": "stderr",
     "output_type": "stream",
     "text": [
      "train: 100%|██████████| 1598/1598 [00:29<00:00, 53.51it/s]\n"
     ]
    },
    {
     "name": "stdout",
     "output_type": "stream",
     "text": [
      "[Epoch: 16], train avg_loss: 0.106683\n"
     ]
    },
    {
     "name": "stderr",
     "output_type": "stream",
     "text": [
      "valid: 100%|██████████| 35/35 [00:00<00:00, 104.78it/s]\n",
      "Epoch:   3%|▎         | 17/500 [08:37<4:03:00, 30.19s/it]"
     ]
    },
    {
     "name": "stdout",
     "output_type": "stream",
     "text": [
      "[Epoch: 16], valid avg_loss: 0.099959\n",
      "EarlyStopping counter: 2 out of 8\n",
      "--------------------------------------------------\n"
     ]
    },
    {
     "name": "stderr",
     "output_type": "stream",
     "text": [
      "train: 100%|██████████| 1598/1598 [00:30<00:00, 53.20it/s]\n"
     ]
    },
    {
     "name": "stdout",
     "output_type": "stream",
     "text": [
      "[Epoch: 17], train avg_loss: 0.106227\n"
     ]
    },
    {
     "name": "stderr",
     "output_type": "stream",
     "text": [
      "valid: 100%|██████████| 35/35 [00:00<00:00, 104.77it/s]\n",
      "Epoch:   4%|▎         | 18/500 [09:08<4:03:01, 30.25s/it]"
     ]
    },
    {
     "name": "stdout",
     "output_type": "stream",
     "text": [
      "[Epoch: 17], valid avg_loss: 0.089586\n",
      "Validation loss decreased (0.092607 --> 0.089586).  Saving model ...\n",
      "--------------------------------------------------\n"
     ]
    },
    {
     "name": "stderr",
     "output_type": "stream",
     "text": [
      "train: 100%|██████████| 1598/1598 [00:30<00:00, 53.21it/s]\n"
     ]
    },
    {
     "name": "stdout",
     "output_type": "stream",
     "text": [
      "[Epoch: 18], train avg_loss: 0.105014\n"
     ]
    },
    {
     "name": "stderr",
     "output_type": "stream",
     "text": [
      "valid: 100%|██████████| 35/35 [00:00<00:00, 105.32it/s]\n",
      "Epoch:   4%|▍         | 19/500 [09:38<4:02:48, 30.29s/it]"
     ]
    },
    {
     "name": "stdout",
     "output_type": "stream",
     "text": [
      "[Epoch: 18], valid avg_loss: 0.105858\n",
      "EarlyStopping counter: 1 out of 8\n",
      "--------------------------------------------------\n"
     ]
    },
    {
     "name": "stderr",
     "output_type": "stream",
     "text": [
      "train: 100%|██████████| 1598/1598 [00:30<00:00, 53.16it/s]\n"
     ]
    },
    {
     "name": "stdout",
     "output_type": "stream",
     "text": [
      "[Epoch: 19], train avg_loss: 0.106561\n"
     ]
    },
    {
     "name": "stderr",
     "output_type": "stream",
     "text": [
      "valid: 100%|██████████| 35/35 [00:00<00:00, 102.50it/s]\n",
      "Epoch:   4%|▍         | 20/500 [10:08<4:02:36, 30.33s/it]"
     ]
    },
    {
     "name": "stdout",
     "output_type": "stream",
     "text": [
      "[Epoch: 19], valid avg_loss: 0.120348\n",
      "EarlyStopping counter: 2 out of 8\n",
      "--------------------------------------------------\n"
     ]
    },
    {
     "name": "stderr",
     "output_type": "stream",
     "text": [
      "train: 100%|██████████| 1598/1598 [00:30<00:00, 53.11it/s]\n"
     ]
    },
    {
     "name": "stdout",
     "output_type": "stream",
     "text": [
      "[Epoch: 20], train avg_loss: 0.106329\n"
     ]
    },
    {
     "name": "stderr",
     "output_type": "stream",
     "text": [
      "valid: 100%|██████████| 35/35 [00:00<00:00, 106.03it/s]\n",
      "Epoch:   4%|▍         | 21/500 [10:39<4:02:21, 30.36s/it]"
     ]
    },
    {
     "name": "stdout",
     "output_type": "stream",
     "text": [
      "[Epoch: 20], valid avg_loss: 0.096233\n",
      "EarlyStopping counter: 3 out of 8\n",
      "--------------------------------------------------\n"
     ]
    },
    {
     "name": "stderr",
     "output_type": "stream",
     "text": [
      "train: 100%|██████████| 1598/1598 [00:29<00:00, 53.56it/s]\n"
     ]
    },
    {
     "name": "stdout",
     "output_type": "stream",
     "text": [
      "[Epoch: 21], train avg_loss: 0.106127\n"
     ]
    },
    {
     "name": "stderr",
     "output_type": "stream",
     "text": [
      "valid: 100%|██████████| 35/35 [00:00<00:00, 105.09it/s]\n",
      "Epoch:   4%|▍         | 22/500 [11:09<4:01:25, 30.30s/it]"
     ]
    },
    {
     "name": "stdout",
     "output_type": "stream",
     "text": [
      "[Epoch: 21], valid avg_loss: 0.131560\n",
      "EarlyStopping counter: 4 out of 8\n",
      "--------------------------------------------------\n"
     ]
    },
    {
     "name": "stderr",
     "output_type": "stream",
     "text": [
      "train: 100%|██████████| 1598/1598 [00:29<00:00, 53.71it/s]\n"
     ]
    },
    {
     "name": "stdout",
     "output_type": "stream",
     "text": [
      "[Epoch: 22], train avg_loss: 0.105709\n"
     ]
    },
    {
     "name": "stderr",
     "output_type": "stream",
     "text": [
      "valid: 100%|██████████| 35/35 [00:00<00:00, 110.18it/s]\n",
      "Epoch:   5%|▍         | 23/500 [11:39<4:00:23, 30.24s/it]"
     ]
    },
    {
     "name": "stdout",
     "output_type": "stream",
     "text": [
      "[Epoch: 22], valid avg_loss: 0.099716\n",
      "EarlyStopping counter: 5 out of 8\n",
      "--------------------------------------------------\n"
     ]
    },
    {
     "name": "stderr",
     "output_type": "stream",
     "text": [
      "train: 100%|██████████| 1598/1598 [00:29<00:00, 54.05it/s]\n"
     ]
    },
    {
     "name": "stdout",
     "output_type": "stream",
     "text": [
      "[Epoch: 23], train avg_loss: 0.061792\n"
     ]
    },
    {
     "name": "stderr",
     "output_type": "stream",
     "text": [
      "valid: 100%|██████████| 35/35 [00:00<00:00, 106.75it/s]\n",
      "Epoch:   5%|▍         | 24/500 [12:09<3:59:08, 30.14s/it]"
     ]
    },
    {
     "name": "stdout",
     "output_type": "stream",
     "text": [
      "[Epoch: 23], valid avg_loss: 0.040590\n",
      "Validation loss decreased (0.089586 --> 0.040590).  Saving model ...\n",
      "--------------------------------------------------\n"
     ]
    },
    {
     "name": "stderr",
     "output_type": "stream",
     "text": [
      "train: 100%|██████████| 1598/1598 [00:29<00:00, 53.51it/s]\n"
     ]
    },
    {
     "name": "stdout",
     "output_type": "stream",
     "text": [
      "[Epoch: 24], train avg_loss: 0.051302\n"
     ]
    },
    {
     "name": "stderr",
     "output_type": "stream",
     "text": [
      "valid: 100%|██████████| 35/35 [00:00<00:00, 101.08it/s]\n",
      "Epoch:   5%|▌         | 25/500 [12:39<3:58:50, 30.17s/it]"
     ]
    },
    {
     "name": "stdout",
     "output_type": "stream",
     "text": [
      "[Epoch: 24], valid avg_loss: 0.035833\n",
      "Validation loss decreased (0.040590 --> 0.035833).  Saving model ...\n",
      "--------------------------------------------------\n"
     ]
    },
    {
     "name": "stderr",
     "output_type": "stream",
     "text": [
      "train: 100%|██████████| 1598/1598 [00:29<00:00, 53.73it/s]\n"
     ]
    },
    {
     "name": "stdout",
     "output_type": "stream",
     "text": [
      "[Epoch: 25], train avg_loss: 0.046680\n"
     ]
    },
    {
     "name": "stderr",
     "output_type": "stream",
     "text": [
      "valid: 100%|██████████| 35/35 [00:00<00:00, 106.52it/s]\n",
      "Epoch:   5%|▌         | 26/500 [13:09<3:58:11, 30.15s/it]"
     ]
    },
    {
     "name": "stdout",
     "output_type": "stream",
     "text": [
      "[Epoch: 25], valid avg_loss: 0.031676\n",
      "Validation loss decreased (0.035833 --> 0.031676).  Saving model ...\n",
      "--------------------------------------------------\n"
     ]
    },
    {
     "name": "stderr",
     "output_type": "stream",
     "text": [
      "train: 100%|██████████| 1598/1598 [00:29<00:00, 54.49it/s]\n"
     ]
    },
    {
     "name": "stdout",
     "output_type": "stream",
     "text": [
      "[Epoch: 26], train avg_loss: 0.043673\n"
     ]
    },
    {
     "name": "stderr",
     "output_type": "stream",
     "text": [
      "valid: 100%|██████████| 35/35 [00:00<00:00, 104.66it/s]\n",
      "Epoch:   5%|▌         | 27/500 [13:39<3:56:36, 30.01s/it]"
     ]
    },
    {
     "name": "stdout",
     "output_type": "stream",
     "text": [
      "[Epoch: 26], valid avg_loss: 0.031274\n",
      "Validation loss decreased (0.031676 --> 0.031274).  Saving model ...\n",
      "--------------------------------------------------\n"
     ]
    },
    {
     "name": "stderr",
     "output_type": "stream",
     "text": [
      "train: 100%|██████████| 1598/1598 [00:29<00:00, 53.36it/s]\n"
     ]
    },
    {
     "name": "stdout",
     "output_type": "stream",
     "text": [
      "[Epoch: 27], train avg_loss: 0.042128\n"
     ]
    },
    {
     "name": "stderr",
     "output_type": "stream",
     "text": [
      "valid: 100%|██████████| 35/35 [00:00<00:00, 104.67it/s]\n",
      "Epoch:   6%|▌         | 28/500 [14:09<3:56:49, 30.10s/it]"
     ]
    },
    {
     "name": "stdout",
     "output_type": "stream",
     "text": [
      "[Epoch: 27], valid avg_loss: 0.028268\n",
      "Validation loss decreased (0.031274 --> 0.028268).  Saving model ...\n",
      "--------------------------------------------------\n"
     ]
    },
    {
     "name": "stderr",
     "output_type": "stream",
     "text": [
      "train: 100%|██████████| 1598/1598 [00:29<00:00, 53.61it/s]\n"
     ]
    },
    {
     "name": "stdout",
     "output_type": "stream",
     "text": [
      "[Epoch: 28], train avg_loss: 0.040375\n"
     ]
    },
    {
     "name": "stderr",
     "output_type": "stream",
     "text": [
      "valid: 100%|██████████| 35/35 [00:00<00:00, 105.87it/s]\n",
      "Epoch:   6%|▌         | 29/500 [14:40<3:56:28, 30.12s/it]"
     ]
    },
    {
     "name": "stdout",
     "output_type": "stream",
     "text": [
      "[Epoch: 28], valid avg_loss: 0.025470\n",
      "Validation loss decreased (0.028268 --> 0.025470).  Saving model ...\n",
      "--------------------------------------------------\n"
     ]
    },
    {
     "name": "stderr",
     "output_type": "stream",
     "text": [
      "train: 100%|██████████| 1598/1598 [00:30<00:00, 53.16it/s]\n"
     ]
    },
    {
     "name": "stdout",
     "output_type": "stream",
     "text": [
      "[Epoch: 29], train avg_loss: 0.039575\n"
     ]
    },
    {
     "name": "stderr",
     "output_type": "stream",
     "text": [
      "valid: 100%|██████████| 35/35 [00:00<00:00, 103.73it/s]\n",
      "Epoch:   6%|▌         | 30/500 [15:10<3:56:41, 30.22s/it]"
     ]
    },
    {
     "name": "stdout",
     "output_type": "stream",
     "text": [
      "[Epoch: 29], valid avg_loss: 0.023958\n",
      "Validation loss decreased (0.025470 --> 0.023958).  Saving model ...\n",
      "--------------------------------------------------\n"
     ]
    },
    {
     "name": "stderr",
     "output_type": "stream",
     "text": [
      "train: 100%|██████████| 1598/1598 [00:29<00:00, 53.43it/s]\n"
     ]
    },
    {
     "name": "stdout",
     "output_type": "stream",
     "text": [
      "[Epoch: 30], train avg_loss: 0.038284\n"
     ]
    },
    {
     "name": "stderr",
     "output_type": "stream",
     "text": [
      "valid: 100%|██████████| 35/35 [00:00<00:00, 104.62it/s]\n",
      "Epoch:   6%|▌         | 31/500 [15:40<3:56:16, 30.23s/it]"
     ]
    },
    {
     "name": "stdout",
     "output_type": "stream",
     "text": [
      "[Epoch: 30], valid avg_loss: 0.024156\n",
      "EarlyStopping counter: 1 out of 8\n",
      "--------------------------------------------------\n"
     ]
    },
    {
     "name": "stderr",
     "output_type": "stream",
     "text": [
      "train: 100%|██████████| 1598/1598 [00:30<00:00, 52.73it/s]\n"
     ]
    },
    {
     "name": "stdout",
     "output_type": "stream",
     "text": [
      "[Epoch: 31], train avg_loss: 0.038037\n"
     ]
    },
    {
     "name": "stderr",
     "output_type": "stream",
     "text": [
      "valid: 100%|██████████| 35/35 [00:00<00:00, 102.60it/s]\n",
      "Epoch:   6%|▋         | 32/500 [16:11<3:56:46, 30.36s/it]"
     ]
    },
    {
     "name": "stdout",
     "output_type": "stream",
     "text": [
      "[Epoch: 31], valid avg_loss: 0.024661\n",
      "EarlyStopping counter: 2 out of 8\n",
      "--------------------------------------------------\n"
     ]
    },
    {
     "name": "stderr",
     "output_type": "stream",
     "text": [
      "train: 100%|██████████| 1598/1598 [00:30<00:00, 52.93it/s]\n"
     ]
    },
    {
     "name": "stdout",
     "output_type": "stream",
     "text": [
      "[Epoch: 32], train avg_loss: 0.037106\n"
     ]
    },
    {
     "name": "stderr",
     "output_type": "stream",
     "text": [
      "valid: 100%|██████████| 35/35 [00:00<00:00, 105.70it/s]\n",
      "Epoch:   7%|▋         | 33/500 [16:42<3:56:42, 30.41s/it]"
     ]
    },
    {
     "name": "stdout",
     "output_type": "stream",
     "text": [
      "[Epoch: 32], valid avg_loss: 0.022371\n",
      "Validation loss decreased (0.023958 --> 0.022371).  Saving model ...\n",
      "--------------------------------------------------\n"
     ]
    },
    {
     "name": "stderr",
     "output_type": "stream",
     "text": [
      "train: 100%|██████████| 1598/1598 [00:29<00:00, 54.02it/s]\n"
     ]
    },
    {
     "name": "stdout",
     "output_type": "stream",
     "text": [
      "[Epoch: 33], train avg_loss: 0.036672\n"
     ]
    },
    {
     "name": "stderr",
     "output_type": "stream",
     "text": [
      "valid: 100%|██████████| 35/35 [00:00<00:00, 76.75it/s]\n",
      "Epoch:   7%|▋         | 34/500 [17:12<3:55:23, 30.31s/it]"
     ]
    },
    {
     "name": "stdout",
     "output_type": "stream",
     "text": [
      "[Epoch: 33], valid avg_loss: 0.021308\n",
      "Validation loss decreased (0.022371 --> 0.021308).  Saving model ...\n",
      "--------------------------------------------------\n"
     ]
    },
    {
     "name": "stderr",
     "output_type": "stream",
     "text": [
      "train: 100%|██████████| 1598/1598 [00:29<00:00, 53.32it/s]\n"
     ]
    },
    {
     "name": "stdout",
     "output_type": "stream",
     "text": [
      "[Epoch: 34], train avg_loss: 0.036040\n"
     ]
    },
    {
     "name": "stderr",
     "output_type": "stream",
     "text": [
      "valid: 100%|██████████| 35/35 [00:00<00:00, 105.20it/s]\n",
      "Epoch:   7%|▋         | 35/500 [17:42<3:54:54, 30.31s/it]"
     ]
    },
    {
     "name": "stdout",
     "output_type": "stream",
     "text": [
      "[Epoch: 34], valid avg_loss: 0.023276\n",
      "EarlyStopping counter: 1 out of 8\n",
      "--------------------------------------------------\n"
     ]
    },
    {
     "name": "stderr",
     "output_type": "stream",
     "text": [
      "train: 100%|██████████| 1598/1598 [00:29<00:00, 54.15it/s]\n"
     ]
    },
    {
     "name": "stdout",
     "output_type": "stream",
     "text": [
      "[Epoch: 35], train avg_loss: 0.036032\n"
     ]
    },
    {
     "name": "stderr",
     "output_type": "stream",
     "text": [
      "valid: 100%|██████████| 35/35 [00:00<00:00, 101.77it/s]\n",
      "Epoch:   7%|▋         | 36/500 [18:12<3:53:21, 30.18s/it]"
     ]
    },
    {
     "name": "stdout",
     "output_type": "stream",
     "text": [
      "[Epoch: 35], valid avg_loss: 0.022691\n",
      "EarlyStopping counter: 2 out of 8\n",
      "--------------------------------------------------\n"
     ]
    },
    {
     "name": "stderr",
     "output_type": "stream",
     "text": [
      "train: 100%|██████████| 1598/1598 [00:30<00:00, 52.90it/s]\n"
     ]
    },
    {
     "name": "stdout",
     "output_type": "stream",
     "text": [
      "[Epoch: 36], train avg_loss: 0.035167\n"
     ]
    },
    {
     "name": "stderr",
     "output_type": "stream",
     "text": [
      "valid: 100%|██████████| 35/35 [00:00<00:00, 104.59it/s]\n",
      "Epoch:   7%|▋         | 37/500 [18:42<3:53:44, 30.29s/it]"
     ]
    },
    {
     "name": "stdout",
     "output_type": "stream",
     "text": [
      "[Epoch: 36], valid avg_loss: 0.021685\n",
      "EarlyStopping counter: 3 out of 8\n",
      "--------------------------------------------------\n"
     ]
    },
    {
     "name": "stderr",
     "output_type": "stream",
     "text": [
      "train: 100%|██████████| 1598/1598 [00:29<00:00, 53.56it/s]\n"
     ]
    },
    {
     "name": "stdout",
     "output_type": "stream",
     "text": [
      "[Epoch: 37], train avg_loss: 0.035962\n"
     ]
    },
    {
     "name": "stderr",
     "output_type": "stream",
     "text": [
      "valid: 100%|██████████| 35/35 [00:00<00:00, 101.05it/s]\n",
      "Epoch:   8%|▊         | 38/500 [19:13<3:53:03, 30.27s/it]"
     ]
    },
    {
     "name": "stdout",
     "output_type": "stream",
     "text": [
      "[Epoch: 37], valid avg_loss: 0.021039\n",
      "Validation loss decreased (0.021308 --> 0.021039).  Saving model ...\n",
      "--------------------------------------------------\n"
     ]
    },
    {
     "name": "stderr",
     "output_type": "stream",
     "text": [
      "train: 100%|██████████| 1598/1598 [00:29<00:00, 53.54it/s]\n"
     ]
    },
    {
     "name": "stdout",
     "output_type": "stream",
     "text": [
      "[Epoch: 38], train avg_loss: 0.034826\n"
     ]
    },
    {
     "name": "stderr",
     "output_type": "stream",
     "text": [
      "valid: 100%|██████████| 35/35 [00:00<00:00, 106.02it/s]\n",
      "Epoch:   8%|▊         | 39/500 [19:43<3:52:21, 30.24s/it]"
     ]
    },
    {
     "name": "stdout",
     "output_type": "stream",
     "text": [
      "[Epoch: 38], valid avg_loss: 0.021030\n",
      "EarlyStopping counter: 1 out of 8\n",
      "--------------------------------------------------\n"
     ]
    },
    {
     "name": "stderr",
     "output_type": "stream",
     "text": [
      "train: 100%|██████████| 1598/1598 [00:29<00:00, 54.35it/s]\n"
     ]
    },
    {
     "name": "stdout",
     "output_type": "stream",
     "text": [
      "[Epoch: 39], train avg_loss: 0.035013\n"
     ]
    },
    {
     "name": "stderr",
     "output_type": "stream",
     "text": [
      "valid: 100%|██████████| 35/35 [00:00<00:00, 104.30it/s]\n",
      "Epoch:   8%|▊         | 40/500 [20:12<3:50:43, 30.09s/it]"
     ]
    },
    {
     "name": "stdout",
     "output_type": "stream",
     "text": [
      "[Epoch: 39], valid avg_loss: 0.022222\n",
      "EarlyStopping counter: 2 out of 8\n",
      "--------------------------------------------------\n"
     ]
    },
    {
     "name": "stderr",
     "output_type": "stream",
     "text": [
      "train: 100%|██████████| 1598/1598 [00:29<00:00, 53.93it/s]\n"
     ]
    },
    {
     "name": "stdout",
     "output_type": "stream",
     "text": [
      "[Epoch: 40], train avg_loss: 0.035090\n"
     ]
    },
    {
     "name": "stderr",
     "output_type": "stream",
     "text": [
      "valid: 100%|██████████| 35/35 [00:00<00:00, 103.57it/s]\n",
      "Epoch:   8%|▊         | 41/500 [20:42<3:49:57, 30.06s/it]"
     ]
    },
    {
     "name": "stdout",
     "output_type": "stream",
     "text": [
      "[Epoch: 40], valid avg_loss: 0.024143\n",
      "EarlyStopping counter: 3 out of 8\n",
      "--------------------------------------------------\n"
     ]
    },
    {
     "name": "stderr",
     "output_type": "stream",
     "text": [
      "train: 100%|██████████| 1598/1598 [00:30<00:00, 52.80it/s]\n"
     ]
    },
    {
     "name": "stdout",
     "output_type": "stream",
     "text": [
      "[Epoch: 41], train avg_loss: 0.034684\n"
     ]
    },
    {
     "name": "stderr",
     "output_type": "stream",
     "text": [
      "valid: 100%|██████████| 35/35 [00:00<00:00, 96.55it/s]\n",
      "Epoch:   8%|▊         | 42/500 [21:13<3:50:47, 30.24s/it]"
     ]
    },
    {
     "name": "stdout",
     "output_type": "stream",
     "text": [
      "[Epoch: 41], valid avg_loss: 0.021376\n",
      "EarlyStopping counter: 4 out of 8\n",
      "--------------------------------------------------\n"
     ]
    },
    {
     "name": "stderr",
     "output_type": "stream",
     "text": [
      "train: 100%|██████████| 1598/1598 [00:29<00:00, 53.32it/s]\n"
     ]
    },
    {
     "name": "stdout",
     "output_type": "stream",
     "text": [
      "[Epoch: 42], train avg_loss: 0.033908\n"
     ]
    },
    {
     "name": "stderr",
     "output_type": "stream",
     "text": [
      "valid: 100%|██████████| 35/35 [00:00<00:00, 104.88it/s]\n",
      "Epoch:   9%|▊         | 43/500 [21:43<3:50:28, 30.26s/it]"
     ]
    },
    {
     "name": "stdout",
     "output_type": "stream",
     "text": [
      "[Epoch: 42], valid avg_loss: 0.022014\n",
      "EarlyStopping counter: 5 out of 8\n",
      "--------------------------------------------------\n"
     ]
    },
    {
     "name": "stderr",
     "output_type": "stream",
     "text": [
      "train: 100%|██████████| 1598/1598 [00:29<00:00, 53.52it/s]\n"
     ]
    },
    {
     "name": "stdout",
     "output_type": "stream",
     "text": [
      "[Epoch: 43], train avg_loss: 0.034974\n"
     ]
    },
    {
     "name": "stderr",
     "output_type": "stream",
     "text": [
      "valid: 100%|██████████| 35/35 [00:00<00:00, 102.57it/s]\n",
      "Epoch:   9%|▉         | 44/500 [22:14<3:49:51, 30.24s/it]"
     ]
    },
    {
     "name": "stdout",
     "output_type": "stream",
     "text": [
      "[Epoch: 43], valid avg_loss: 0.023760\n",
      "EarlyStopping counter: 6 out of 8\n",
      "--------------------------------------------------\n"
     ]
    },
    {
     "name": "stderr",
     "output_type": "stream",
     "text": [
      "train: 100%|██████████| 1598/1598 [00:29<00:00, 53.60it/s]\n"
     ]
    },
    {
     "name": "stdout",
     "output_type": "stream",
     "text": [
      "[Epoch: 44], train avg_loss: 0.027372\n"
     ]
    },
    {
     "name": "stderr",
     "output_type": "stream",
     "text": [
      "valid: 100%|██████████| 35/35 [00:00<00:00, 110.31it/s]\n",
      "Epoch:   9%|▉         | 45/500 [22:44<3:49:09, 30.22s/it]"
     ]
    },
    {
     "name": "stdout",
     "output_type": "stream",
     "text": [
      "[Epoch: 44], valid avg_loss: 0.016582\n",
      "Validation loss decreased (0.021039 --> 0.016582).  Saving model ...\n",
      "--------------------------------------------------\n"
     ]
    },
    {
     "name": "stderr",
     "output_type": "stream",
     "text": [
      "train: 100%|██████████| 1598/1598 [00:29<00:00, 53.48it/s]\n"
     ]
    },
    {
     "name": "stdout",
     "output_type": "stream",
     "text": [
      "[Epoch: 45], train avg_loss: 0.024923\n"
     ]
    },
    {
     "name": "stderr",
     "output_type": "stream",
     "text": [
      "valid: 100%|██████████| 35/35 [00:00<00:00, 106.46it/s]\n",
      "Epoch:   9%|▉         | 46/500 [23:14<3:48:41, 30.22s/it]"
     ]
    },
    {
     "name": "stdout",
     "output_type": "stream",
     "text": [
      "[Epoch: 45], valid avg_loss: 0.015481\n",
      "Validation loss decreased (0.016582 --> 0.015481).  Saving model ...\n",
      "--------------------------------------------------\n"
     ]
    },
    {
     "name": "stderr",
     "output_type": "stream",
     "text": [
      "train: 100%|██████████| 1598/1598 [00:30<00:00, 53.11it/s]\n"
     ]
    },
    {
     "name": "stdout",
     "output_type": "stream",
     "text": [
      "[Epoch: 46], train avg_loss: 0.024129\n"
     ]
    },
    {
     "name": "stderr",
     "output_type": "stream",
     "text": [
      "valid: 100%|██████████| 35/35 [00:00<00:00, 105.82it/s]\n",
      "Epoch:   9%|▉         | 47/500 [23:44<3:48:41, 30.29s/it]"
     ]
    },
    {
     "name": "stdout",
     "output_type": "stream",
     "text": [
      "[Epoch: 46], valid avg_loss: 0.014352\n",
      "Validation loss decreased (0.015481 --> 0.014352).  Saving model ...\n",
      "--------------------------------------------------\n"
     ]
    },
    {
     "name": "stderr",
     "output_type": "stream",
     "text": [
      "train: 100%|██████████| 1598/1598 [00:29<00:00, 53.85it/s]\n"
     ]
    },
    {
     "name": "stdout",
     "output_type": "stream",
     "text": [
      "[Epoch: 47], train avg_loss: 0.023360\n"
     ]
    },
    {
     "name": "stderr",
     "output_type": "stream",
     "text": [
      "valid: 100%|██████████| 35/35 [00:00<00:00, 104.42it/s]\n",
      "Epoch:  10%|▉         | 48/500 [24:14<3:47:34, 30.21s/it]"
     ]
    },
    {
     "name": "stdout",
     "output_type": "stream",
     "text": [
      "[Epoch: 47], valid avg_loss: 0.014418\n",
      "EarlyStopping counter: 1 out of 8\n",
      "--------------------------------------------------\n"
     ]
    },
    {
     "name": "stderr",
     "output_type": "stream",
     "text": [
      "train: 100%|██████████| 1598/1598 [00:30<00:00, 53.25it/s]\n"
     ]
    },
    {
     "name": "stdout",
     "output_type": "stream",
     "text": [
      "[Epoch: 48], train avg_loss: 0.023215\n"
     ]
    },
    {
     "name": "stderr",
     "output_type": "stream",
     "text": [
      "valid: 100%|██████████| 35/35 [00:00<00:00, 105.52it/s]\n",
      "Epoch:  10%|▉         | 49/500 [24:45<3:47:26, 30.26s/it]"
     ]
    },
    {
     "name": "stdout",
     "output_type": "stream",
     "text": [
      "[Epoch: 48], valid avg_loss: 0.014101\n",
      "Validation loss decreased (0.014352 --> 0.014101).  Saving model ...\n",
      "--------------------------------------------------\n"
     ]
    },
    {
     "name": "stderr",
     "output_type": "stream",
     "text": [
      "train: 100%|██████████| 1598/1598 [00:29<00:00, 53.75it/s]\n"
     ]
    },
    {
     "name": "stdout",
     "output_type": "stream",
     "text": [
      "[Epoch: 49], train avg_loss: 0.023242\n"
     ]
    },
    {
     "name": "stderr",
     "output_type": "stream",
     "text": [
      "valid: 100%|██████████| 35/35 [00:00<00:00, 102.10it/s]\n",
      "Epoch:  10%|█         | 50/500 [25:15<3:46:35, 30.21s/it]"
     ]
    },
    {
     "name": "stdout",
     "output_type": "stream",
     "text": [
      "[Epoch: 49], valid avg_loss: 0.013814\n",
      "Validation loss decreased (0.014101 --> 0.013814).  Saving model ...\n",
      "--------------------------------------------------\n"
     ]
    },
    {
     "name": "stderr",
     "output_type": "stream",
     "text": [
      "train: 100%|██████████| 1598/1598 [00:29<00:00, 53.94it/s]\n"
     ]
    },
    {
     "name": "stdout",
     "output_type": "stream",
     "text": [
      "[Epoch: 50], train avg_loss: 0.022745\n"
     ]
    },
    {
     "name": "stderr",
     "output_type": "stream",
     "text": [
      "valid: 100%|██████████| 35/35 [00:00<00:00, 76.05it/s]\n",
      "Epoch:  10%|█         | 51/500 [25:45<3:45:50, 30.18s/it]"
     ]
    },
    {
     "name": "stdout",
     "output_type": "stream",
     "text": [
      "[Epoch: 50], valid avg_loss: 0.013760\n",
      "EarlyStopping counter: 1 out of 8\n",
      "--------------------------------------------------\n"
     ]
    },
    {
     "name": "stderr",
     "output_type": "stream",
     "text": [
      "train: 100%|██████████| 1598/1598 [00:29<00:00, 53.39it/s]\n"
     ]
    },
    {
     "name": "stdout",
     "output_type": "stream",
     "text": [
      "[Epoch: 51], train avg_loss: 0.022469\n"
     ]
    },
    {
     "name": "stderr",
     "output_type": "stream",
     "text": [
      "valid: 100%|██████████| 35/35 [00:00<00:00, 105.95it/s]\n",
      "Epoch:  10%|█         | 52/500 [26:15<3:45:34, 30.21s/it]"
     ]
    },
    {
     "name": "stdout",
     "output_type": "stream",
     "text": [
      "[Epoch: 51], valid avg_loss: 0.013782\n",
      "EarlyStopping counter: 2 out of 8\n",
      "--------------------------------------------------\n"
     ]
    },
    {
     "name": "stderr",
     "output_type": "stream",
     "text": [
      "train: 100%|██████████| 1598/1598 [00:30<00:00, 53.24it/s]\n"
     ]
    },
    {
     "name": "stdout",
     "output_type": "stream",
     "text": [
      "[Epoch: 52], train avg_loss: 0.022247\n"
     ]
    },
    {
     "name": "stderr",
     "output_type": "stream",
     "text": [
      "valid: 100%|██████████| 35/35 [00:00<00:00, 104.83it/s]\n",
      "Epoch:  11%|█         | 53/500 [26:46<3:45:23, 30.25s/it]"
     ]
    },
    {
     "name": "stdout",
     "output_type": "stream",
     "text": [
      "[Epoch: 52], valid avg_loss: 0.013789\n",
      "EarlyStopping counter: 3 out of 8\n",
      "--------------------------------------------------\n"
     ]
    },
    {
     "name": "stderr",
     "output_type": "stream",
     "text": [
      "train: 100%|██████████| 1598/1598 [00:29<00:00, 53.63it/s]\n"
     ]
    },
    {
     "name": "stdout",
     "output_type": "stream",
     "text": [
      "[Epoch: 53], train avg_loss: 0.022181\n"
     ]
    },
    {
     "name": "stderr",
     "output_type": "stream",
     "text": [
      "valid: 100%|██████████| 35/35 [00:00<00:00, 107.91it/s]\n",
      "Epoch:  11%|█         | 54/500 [27:16<3:44:39, 30.22s/it]"
     ]
    },
    {
     "name": "stdout",
     "output_type": "stream",
     "text": [
      "[Epoch: 53], valid avg_loss: 0.013650\n",
      "Validation loss decreased (0.013814 --> 0.013650).  Saving model ...\n",
      "--------------------------------------------------\n"
     ]
    },
    {
     "name": "stderr",
     "output_type": "stream",
     "text": [
      "train: 100%|██████████| 1598/1598 [00:29<00:00, 53.30it/s]\n"
     ]
    },
    {
     "name": "stdout",
     "output_type": "stream",
     "text": [
      "[Epoch: 54], train avg_loss: 0.022050\n"
     ]
    },
    {
     "name": "stderr",
     "output_type": "stream",
     "text": [
      "valid: 100%|██████████| 35/35 [00:00<00:00, 105.42it/s]\n",
      "Epoch:  11%|█         | 55/500 [27:46<3:44:25, 30.26s/it]"
     ]
    },
    {
     "name": "stdout",
     "output_type": "stream",
     "text": [
      "[Epoch: 54], valid avg_loss: 0.013336\n",
      "Validation loss decreased (0.013650 --> 0.013336).  Saving model ...\n",
      "--------------------------------------------------\n"
     ]
    },
    {
     "name": "stderr",
     "output_type": "stream",
     "text": [
      "train: 100%|██████████| 1598/1598 [00:30<00:00, 53.22it/s]\n"
     ]
    },
    {
     "name": "stdout",
     "output_type": "stream",
     "text": [
      "[Epoch: 55], train avg_loss: 0.021963\n"
     ]
    },
    {
     "name": "stderr",
     "output_type": "stream",
     "text": [
      "valid: 100%|██████████| 35/35 [00:00<00:00, 109.00it/s]\n",
      "Epoch:  11%|█         | 56/500 [28:17<3:44:10, 30.29s/it]"
     ]
    },
    {
     "name": "stdout",
     "output_type": "stream",
     "text": [
      "[Epoch: 55], valid avg_loss: 0.013125\n",
      "Validation loss decreased (0.013336 --> 0.013125).  Saving model ...\n",
      "--------------------------------------------------\n"
     ]
    },
    {
     "name": "stderr",
     "output_type": "stream",
     "text": [
      "train: 100%|██████████| 1598/1598 [00:30<00:00, 53.18it/s]\n"
     ]
    },
    {
     "name": "stdout",
     "output_type": "stream",
     "text": [
      "[Epoch: 56], train avg_loss: 0.021954\n"
     ]
    },
    {
     "name": "stderr",
     "output_type": "stream",
     "text": [
      "valid: 100%|██████████| 35/35 [00:00<00:00, 104.49it/s]\n",
      "Epoch:  11%|█▏        | 57/500 [28:47<3:43:53, 30.32s/it]"
     ]
    },
    {
     "name": "stdout",
     "output_type": "stream",
     "text": [
      "[Epoch: 56], valid avg_loss: 0.013065\n",
      "EarlyStopping counter: 1 out of 8\n",
      "--------------------------------------------------\n"
     ]
    },
    {
     "name": "stderr",
     "output_type": "stream",
     "text": [
      "train: 100%|██████████| 1598/1598 [00:30<00:00, 52.75it/s]\n"
     ]
    },
    {
     "name": "stdout",
     "output_type": "stream",
     "text": [
      "[Epoch: 57], train avg_loss: 0.021837\n"
     ]
    },
    {
     "name": "stderr",
     "output_type": "stream",
     "text": [
      "valid: 100%|██████████| 35/35 [00:00<00:00, 109.27it/s]\n",
      "Epoch:  12%|█▏        | 58/500 [29:18<3:44:03, 30.42s/it]"
     ]
    },
    {
     "name": "stdout",
     "output_type": "stream",
     "text": [
      "[Epoch: 57], valid avg_loss: 0.013137\n",
      "EarlyStopping counter: 2 out of 8\n",
      "--------------------------------------------------\n"
     ]
    },
    {
     "name": "stderr",
     "output_type": "stream",
     "text": [
      "train: 100%|██████████| 1598/1598 [00:30<00:00, 53.07it/s]\n"
     ]
    },
    {
     "name": "stdout",
     "output_type": "stream",
     "text": [
      "[Epoch: 58], train avg_loss: 0.021969\n"
     ]
    },
    {
     "name": "stderr",
     "output_type": "stream",
     "text": [
      "valid: 100%|██████████| 35/35 [00:00<00:00, 109.63it/s]\n",
      "Epoch:  12%|█▏        | 59/500 [29:48<3:43:36, 30.42s/it]"
     ]
    },
    {
     "name": "stdout",
     "output_type": "stream",
     "text": [
      "[Epoch: 58], valid avg_loss: 0.013066\n",
      "EarlyStopping counter: 3 out of 8\n",
      "--------------------------------------------------\n"
     ]
    },
    {
     "name": "stderr",
     "output_type": "stream",
     "text": [
      "train: 100%|██████████| 1598/1598 [00:30<00:00, 53.02it/s]\n"
     ]
    },
    {
     "name": "stdout",
     "output_type": "stream",
     "text": [
      "[Epoch: 59], train avg_loss: 0.021755\n"
     ]
    },
    {
     "name": "stderr",
     "output_type": "stream",
     "text": [
      "valid: 100%|██████████| 35/35 [00:00<00:00, 104.38it/s]\n",
      "Epoch:  12%|█▏        | 60/500 [30:19<3:43:15, 30.44s/it]"
     ]
    },
    {
     "name": "stdout",
     "output_type": "stream",
     "text": [
      "[Epoch: 59], valid avg_loss: 0.013730\n",
      "EarlyStopping counter: 4 out of 8\n",
      "--------------------------------------------------\n"
     ]
    },
    {
     "name": "stderr",
     "output_type": "stream",
     "text": [
      "train: 100%|██████████| 1598/1598 [00:29<00:00, 53.38it/s]\n"
     ]
    },
    {
     "name": "stdout",
     "output_type": "stream",
     "text": [
      "[Epoch: 60], train avg_loss: 0.021719\n"
     ]
    },
    {
     "name": "stderr",
     "output_type": "stream",
     "text": [
      "valid: 100%|██████████| 35/35 [00:00<00:00, 105.81it/s]\n",
      "Epoch:  12%|█▏        | 61/500 [30:49<3:42:22, 30.39s/it]"
     ]
    },
    {
     "name": "stdout",
     "output_type": "stream",
     "text": [
      "[Epoch: 60], valid avg_loss: 0.013117\n",
      "EarlyStopping counter: 5 out of 8\n",
      "--------------------------------------------------\n"
     ]
    },
    {
     "name": "stderr",
     "output_type": "stream",
     "text": [
      "train: 100%|██████████| 1598/1598 [00:29<00:00, 53.90it/s]\n"
     ]
    },
    {
     "name": "stdout",
     "output_type": "stream",
     "text": [
      "[Epoch: 61], train avg_loss: 0.021554\n"
     ]
    },
    {
     "name": "stderr",
     "output_type": "stream",
     "text": [
      "valid: 100%|██████████| 35/35 [00:00<00:00, 104.31it/s]\n",
      "Epoch:  12%|█▏        | 62/500 [31:19<3:40:59, 30.27s/it]"
     ]
    },
    {
     "name": "stdout",
     "output_type": "stream",
     "text": [
      "[Epoch: 61], valid avg_loss: 0.013206\n",
      "EarlyStopping counter: 6 out of 8\n",
      "--------------------------------------------------\n"
     ]
    },
    {
     "name": "stderr",
     "output_type": "stream",
     "text": [
      "train: 100%|██████████| 1598/1598 [00:30<00:00, 53.04it/s]\n"
     ]
    },
    {
     "name": "stdout",
     "output_type": "stream",
     "text": [
      "[Epoch: 62], train avg_loss: 0.021204\n"
     ]
    },
    {
     "name": "stderr",
     "output_type": "stream",
     "text": [
      "valid: 100%|██████████| 35/35 [00:00<00:00, 108.72it/s]\n",
      "Epoch:  13%|█▎        | 63/500 [31:49<3:40:56, 30.33s/it]"
     ]
    },
    {
     "name": "stdout",
     "output_type": "stream",
     "text": [
      "[Epoch: 62], valid avg_loss: 0.012812\n",
      "Validation loss decreased (0.013125 --> 0.012812).  Saving model ...\n",
      "--------------------------------------------------\n"
     ]
    },
    {
     "name": "stderr",
     "output_type": "stream",
     "text": [
      "train: 100%|██████████| 1598/1598 [00:30<00:00, 52.94it/s]\n"
     ]
    },
    {
     "name": "stdout",
     "output_type": "stream",
     "text": [
      "[Epoch: 63], train avg_loss: 0.021102\n"
     ]
    },
    {
     "name": "stderr",
     "output_type": "stream",
     "text": [
      "valid: 100%|██████████| 35/35 [00:00<00:00, 103.51it/s]\n",
      "Epoch:  13%|█▎        | 64/500 [32:20<3:40:52, 30.40s/it]"
     ]
    },
    {
     "name": "stdout",
     "output_type": "stream",
     "text": [
      "[Epoch: 63], valid avg_loss: 0.012840\n",
      "EarlyStopping counter: 1 out of 8\n",
      "--------------------------------------------------\n"
     ]
    },
    {
     "name": "stderr",
     "output_type": "stream",
     "text": [
      "train: 100%|██████████| 1598/1598 [00:30<00:00, 53.15it/s]\n"
     ]
    },
    {
     "name": "stdout",
     "output_type": "stream",
     "text": [
      "[Epoch: 64], train avg_loss: 0.021040\n"
     ]
    },
    {
     "name": "stderr",
     "output_type": "stream",
     "text": [
      "valid: 100%|██████████| 35/35 [00:00<00:00, 106.05it/s]\n",
      "Epoch:  13%|█▎        | 65/500 [32:50<3:40:23, 30.40s/it]"
     ]
    },
    {
     "name": "stdout",
     "output_type": "stream",
     "text": [
      "[Epoch: 64], valid avg_loss: 0.012999\n",
      "EarlyStopping counter: 2 out of 8\n",
      "--------------------------------------------------\n"
     ]
    },
    {
     "name": "stderr",
     "output_type": "stream",
     "text": [
      "train: 100%|██████████| 1598/1598 [00:30<00:00, 52.83it/s]\n"
     ]
    },
    {
     "name": "stdout",
     "output_type": "stream",
     "text": [
      "[Epoch: 65], train avg_loss: 0.020984\n"
     ]
    },
    {
     "name": "stderr",
     "output_type": "stream",
     "text": [
      "valid: 100%|██████████| 35/35 [00:00<00:00, 106.39it/s]\n",
      "Epoch:  13%|█▎        | 66/500 [33:21<3:40:18, 30.46s/it]"
     ]
    },
    {
     "name": "stdout",
     "output_type": "stream",
     "text": [
      "[Epoch: 65], valid avg_loss: 0.013088\n",
      "EarlyStopping counter: 3 out of 8\n",
      "--------------------------------------------------\n"
     ]
    },
    {
     "name": "stderr",
     "output_type": "stream",
     "text": [
      "train: 100%|██████████| 1598/1598 [00:29<00:00, 54.08it/s]\n"
     ]
    },
    {
     "name": "stdout",
     "output_type": "stream",
     "text": [
      "[Epoch: 66], train avg_loss: 0.020974\n"
     ]
    },
    {
     "name": "stderr",
     "output_type": "stream",
     "text": [
      "valid: 100%|██████████| 35/35 [00:00<00:00, 105.44it/s]\n",
      "Epoch:  13%|█▎        | 67/500 [33:51<3:38:34, 30.29s/it]"
     ]
    },
    {
     "name": "stdout",
     "output_type": "stream",
     "text": [
      "[Epoch: 66], valid avg_loss: 0.013195\n",
      "EarlyStopping counter: 4 out of 8\n",
      "--------------------------------------------------\n"
     ]
    },
    {
     "name": "stderr",
     "output_type": "stream",
     "text": [
      "train: 100%|██████████| 1598/1598 [00:29<00:00, 53.95it/s]\n"
     ]
    },
    {
     "name": "stdout",
     "output_type": "stream",
     "text": [
      "[Epoch: 67], train avg_loss: 0.020951\n"
     ]
    },
    {
     "name": "stderr",
     "output_type": "stream",
     "text": [
      "valid: 100%|██████████| 35/35 [00:00<00:00, 71.90it/s]\n",
      "Epoch:  14%|█▎        | 68/500 [34:21<3:37:41, 30.24s/it]"
     ]
    },
    {
     "name": "stdout",
     "output_type": "stream",
     "text": [
      "[Epoch: 67], valid avg_loss: 0.012938\n",
      "EarlyStopping counter: 5 out of 8\n",
      "--------------------------------------------------\n"
     ]
    },
    {
     "name": "stderr",
     "output_type": "stream",
     "text": [
      "train: 100%|██████████| 1598/1598 [00:29<00:00, 54.02it/s]\n"
     ]
    },
    {
     "name": "stdout",
     "output_type": "stream",
     "text": [
      "[Epoch: 68], train avg_loss: 0.020892\n"
     ]
    },
    {
     "name": "stderr",
     "output_type": "stream",
     "text": [
      "valid: 100%|██████████| 35/35 [00:00<00:00, 102.62it/s]\n",
      "Epoch:  14%|█▍        | 69/500 [34:51<3:36:32, 30.15s/it]"
     ]
    },
    {
     "name": "stdout",
     "output_type": "stream",
     "text": [
      "[Epoch: 68], valid avg_loss: 0.012879\n",
      "EarlyStopping counter: 6 out of 8\n",
      "--------------------------------------------------\n"
     ]
    },
    {
     "name": "stderr",
     "output_type": "stream",
     "text": [
      "train: 100%|██████████| 1598/1598 [00:29<00:00, 53.87it/s]\n"
     ]
    },
    {
     "name": "stdout",
     "output_type": "stream",
     "text": [
      "[Epoch: 69], train avg_loss: 0.020775\n"
     ]
    },
    {
     "name": "stderr",
     "output_type": "stream",
     "text": [
      "valid: 100%|██████████| 35/35 [00:00<00:00, 103.98it/s]\n",
      "Epoch:  14%|█▍        | 70/500 [35:21<3:35:45, 30.11s/it]"
     ]
    },
    {
     "name": "stdout",
     "output_type": "stream",
     "text": [
      "[Epoch: 69], valid avg_loss: 0.013020\n",
      "EarlyStopping counter: 7 out of 8\n",
      "--------------------------------------------------\n"
     ]
    },
    {
     "name": "stderr",
     "output_type": "stream",
     "text": [
      "train: 100%|██████████| 1598/1598 [00:29<00:00, 53.66it/s]\n"
     ]
    },
    {
     "name": "stdout",
     "output_type": "stream",
     "text": [
      "[Epoch: 70], train avg_loss: 0.020932\n"
     ]
    },
    {
     "name": "stderr",
     "output_type": "stream",
     "text": [
      "valid: 100%|██████████| 35/35 [00:00<00:00, 104.19it/s]\n",
      "Epoch:  14%|█▍        | 70/500 [35:51<3:40:15, 30.73s/it]\n"
     ]
    },
    {
     "name": "stdout",
     "output_type": "stream",
     "text": [
      "[Epoch: 70], valid avg_loss: 0.013082\n",
      "EarlyStopping counter: 8 out of 8\n",
      "--------------------------------------------------\n",
      "Early stopping\n",
      "cost time : 2151.3722779750824\n"
     ]
    },
    {
     "data": {
      "image/png": "[encoded data removed]",
      "text/plain": [
       "<Figure size 720x576 with 1 Axes>"
      ]
     },
     "metadata": {
      "needs_background": "light"
     },
     "output_type": "display_data"
    },
    {
     "ename": "NameError",
     "evalue": "name 'layer' is not defined",
     "output_type": "error",
     "traceback": [
      "\u001b[0;31m---------------------------------------------------------------------------\u001b[0m",
      "\u001b[0;31mNameError\u001b[0m                                 Traceback (most recent call last)",
      "\u001b[1;32m/home/krex/python/DeepLearning_lecture/Term/Project1/for_training/VGGNet/MAKING_model.ipynb Cell 22'\u001b[0m in \u001b[0;36m<cell line: 4>\u001b[0;34m()\u001b[0m\n\u001b[1;32m      <a href='vscode-notebook-cell:/home/krex/python/DeepLearning_lecture/Term/Project1/for_training/VGGNet/MAKING_model.ipynb#ch0000021?line=6'>7</a>\u001b[0m model, opt, scheduler \u001b[39m=\u001b[39m get_model(lr \u001b[39m=\u001b[39m lr, keep_prob \u001b[39m=\u001b[39m keep_prob, xavier \u001b[39m=\u001b[39m xavier, weight_decay \u001b[39m=\u001b[39m weight_decay)\n\u001b[1;32m      <a href='vscode-notebook-cell:/home/krex/python/DeepLearning_lecture/Term/Project1/for_training/VGGNet/MAKING_model.ipynb#ch0000021?line=8'>9</a>\u001b[0m model, train_loss, valid_loss \u001b[39m=\u001b[39m fit(epochs, model, loss_func, opt, scheduler, train_dl, valid_dl, path \u001b[39m=\u001b[39m path)\n\u001b[0;32m---> <a href='vscode-notebook-cell:/home/krex/python/DeepLearning_lecture/Term/Project1/for_training/VGGNet/MAKING_model.ipynb#ch0000021?line=9'>10</a>\u001b[0m loss_graph(train_loss, valid_loss)\n\u001b[1;32m     <a href='vscode-notebook-cell:/home/krex/python/DeepLearning_lecture/Term/Project1/for_training/VGGNet/MAKING_model.ipynb#ch0000021?line=10'>11</a>\u001b[0m \u001b[39mprint\u001b[39m(\u001b[39m'\u001b[39m\u001b[39mlr : \u001b[39m\u001b[39m{}\u001b[39;00m\u001b[39m, keep_prob : \u001b[39m\u001b[39m{}\u001b[39;00m\u001b[39m, weight_decay : \u001b[39m\u001b[39m{}\u001b[39;00m\u001b[39m Score\u001b[39m\u001b[39m'\u001b[39m\u001b[39m.\u001b[39mformat(lr, keep_prob, weight_decay))\n\u001b[1;32m     <a href='vscode-notebook-cell:/home/krex/python/DeepLearning_lecture/Term/Project1/for_training/VGGNet/MAKING_model.ipynb#ch0000021?line=11'>12</a>\u001b[0m train_acc\u001b[39m.\u001b[39mappend(accuracy(train_dl)\u001b[39m.\u001b[39mitem())\n",
      "\u001b[1;32m/home/krex/python/DeepLearning_lecture/Term/Project1/for_training/VGGNet/MAKING_model.ipynb Cell 18'\u001b[0m in \u001b[0;36mloss_graph\u001b[0;34m(train_loss, valid_loss)\u001b[0m\n\u001b[1;32m     <a href='vscode-notebook-cell:/home/krex/python/DeepLearning_lecture/Term/Project1/for_training/VGGNet/MAKING_model.ipynb#ch0000017?line=31'>32</a>\u001b[0m plt\u001b[39m.\u001b[39mshow()\n\u001b[1;32m     <a href='vscode-notebook-cell:/home/krex/python/DeepLearning_lecture/Term/Project1/for_training/VGGNet/MAKING_model.ipynb#ch0000017?line=32'>33</a>\u001b[0m fig\u001b[39m.\u001b[39msavefig(\u001b[39m'\u001b[39m\u001b[39mmodel\u001b[39m\u001b[39m'\u001b[39m\u001b[39m+\u001b[39mpath\u001b[39m+\u001b[39m\u001b[39m'\u001b[39m\u001b[39m-loss_plot.png\u001b[39m\u001b[39m'\u001b[39m, bbox_inches \u001b[39m=\u001b[39m \u001b[39m'\u001b[39m\u001b[39mtight\u001b[39m\u001b[39m'\u001b[39m)\n\u001b[0;32m---> <a href='vscode-notebook-cell:/home/krex/python/DeepLearning_lecture/Term/Project1/for_training/VGGNet/MAKING_model.ipynb#ch0000017?line=34'>35</a>\u001b[0m \u001b[39mprint\u001b[39m(\u001b[39m'\u001b[39m\u001b[39mlr : \u001b[39m\u001b[39m{}\u001b[39;00m\u001b[39m, keep_prob : \u001b[39m\u001b[39m{}\u001b[39;00m\u001b[39m, weight_decay : \u001b[39m\u001b[39m{}\u001b[39;00m\u001b[39m, layer : \u001b[39m\u001b[39m{}\u001b[39;00m\u001b[39m'\u001b[39m\u001b[39m.\u001b[39mformat(lr, keep_prob, weight_decay, layer))\n",
      "\u001b[0;31mNameError\u001b[0m: name 'layer' is not defined"
     ]
    }
   ],
   "source": [
    "from itertools import product\n",
    "train_acc = []\n",
    "valid_acc = []\n",
    "for lr, keep_prob, weight_decay in product(lrs, keep_probs, weight_decays) :\n",
    "    # graph, model이 저장될 path\n",
    "    path = 'HyperParams-{}_{}_{}'.format(lr, keep_prob, weight_decay)\n",
    "    model, opt, scheduler = get_model(lr = lr, keep_prob = keep_prob, xavier = xavier, weight_decay = weight_decay)\n",
    "    \n",
    "    model, train_loss, valid_loss = fit(epochs, model, loss_func, opt, scheduler, train_dl, valid_dl, path = path)\n",
    "    loss_graph(train_loss, valid_loss)\n",
    "    print('lr : {}, keep_prob : {}, weight_decay : {} Score'.format(lr, keep_prob, weight_decay))\n",
    "    train_acc.append(accuracy(train_dl).item())\n",
    "    valid_acc.append(accuracy(valid_dl).item())\n",
    "    clear_gpu()\n",
    "    print('==='*30)\n",
    "    print('==='*30)\n"
   ]
  },
  {
   "cell_type": "code",
   "execution_count": 71,
   "metadata": {},
   "outputs": [
    {
     "data": {
      "text/plain": [
       "<All keys matched successfully>"
      ]
     },
     "execution_count": 71,
     "metadata": {},
     "output_type": "execute_result"
    }
   ],
   "source": [
    "model = MyModule().to(\"cpu\")\n",
    "model.load_state_dict(torch.load('./model_AUG/HyperParams-0.001_0.85_0.005_checkpoint.pt'))"
   ]
  },
  {
   "cell_type": "code",
   "execution_count": 72,
   "metadata": {},
   "outputs": [
    {
     "data": {
      "text/plain": [
       "MyModule(\n",
       "  (layer1): Sequential(\n",
       "    (0): Sequential(\n",
       "      (0): Conv2d(3, 32, kernel_size=(3, 3), stride=(1, 1))\n",
       "      (1): BatchNorm2d(32, eps=1e-05, momentum=0.1, affine=True, track_running_stats=True)\n",
       "      (2): ReLU()\n",
       "    )\n",
       "    (1): Sequential(\n",
       "      (0): Conv2d(32, 32, kernel_size=(3, 3), stride=(1, 1))\n",
       "      (1): BatchNorm2d(32, eps=1e-05, momentum=0.1, affine=True, track_running_stats=True)\n",
       "      (2): ReLU()\n",
       "    )\n",
       "    (2): MaxPool2d(kernel_size=2, stride=2, padding=0, dilation=1, ceil_mode=True)\n",
       "  )\n",
       "  (layer2): Sequential(\n",
       "    (0): Sequential(\n",
       "      (0): Conv2d(32, 64, kernel_size=(3, 3), stride=(1, 1))\n",
       "      (1): BatchNorm2d(64, eps=1e-05, momentum=0.1, affine=True, track_running_stats=True)\n",
       "      (2): ReLU()\n",
       "    )\n",
       "    (1): Sequential(\n",
       "      (0): Conv2d(64, 64, kernel_size=(3, 3), stride=(1, 1))\n",
       "      (1): BatchNorm2d(64, eps=1e-05, momentum=0.1, affine=True, track_running_stats=True)\n",
       "      (2): ReLU()\n",
       "    )\n",
       "    (2): MaxPool2d(kernel_size=2, stride=2, padding=0, dilation=1, ceil_mode=True)\n",
       "  )\n",
       "  (layer3): Sequential(\n",
       "    (0): Sequential(\n",
       "      (0): Conv2d(64, 128, kernel_size=(3, 3), stride=(1, 1), padding=(1, 1))\n",
       "      (1): BatchNorm2d(128, eps=1e-05, momentum=0.1, affine=True, track_running_stats=True)\n",
       "      (2): ReLU()\n",
       "    )\n",
       "    (1): Sequential(\n",
       "      (0): Conv2d(128, 128, kernel_size=(3, 3), stride=(1, 1))\n",
       "      (1): BatchNorm2d(128, eps=1e-05, momentum=0.1, affine=True, track_running_stats=True)\n",
       "      (2): ReLU()\n",
       "    )\n",
       "    (2): MaxPool2d(kernel_size=2, stride=2, padding=0, dilation=1, ceil_mode=True)\n",
       "  )\n",
       "  (layer4): Sequential(\n",
       "    (0): Linear(in_features=128, out_features=1024, bias=True)\n",
       "    (1): BatchNorm1d(1024, eps=1e-05, momentum=0.1, affine=True, track_running_stats=True)\n",
       "    (2): ReLU()\n",
       "    (3): Dropout(p=0.5, inplace=False)\n",
       "  )\n",
       "  (layer5): Sequential(\n",
       "    (0): Linear(in_features=1024, out_features=800, bias=True)\n",
       "    (1): BatchNorm1d(800, eps=1e-05, momentum=0.1, affine=True, track_running_stats=True)\n",
       "    (2): ReLU()\n",
       "    (3): Dropout(p=0.5, inplace=False)\n",
       "  )\n",
       "  (layer6): Linear(in_features=800, out_features=10, bias=True)\n",
       ")"
      ]
     },
     "execution_count": 72,
     "metadata": {},
     "output_type": "execute_result"
    }
   ],
   "source": [
    "model.eval()"
   ]
  },
  {
   "cell_type": "code",
   "execution_count": 73,
   "metadata": {},
   "outputs": [
    {
     "data": {
      "image/png": "[encoded data removed]",
      "text/plain": [
       "<Figure size 432x288 with 1 Axes>"
      ]
     },
     "metadata": {
      "needs_background": "light"
     },
     "output_type": "display_data"
    },
    {
     "name": "stdout",
     "output_type": "stream",
     "text": [
      "5\n",
      "tensor([[-0.6969, -0.6784, -0.7153, -0.4564, -0.7171,  5.9800, -0.5547, -0.7073,\n",
      "         -0.7035, -0.7178]], grad_fn=<AddmmBackward0>)\n",
      "tensor([0.6353, 0.8000, 0.7059])\n"
     ]
    },
    {
     "name": "stderr",
     "output_type": "stream",
     "text": [
      "/home/krex/anaconda3/envs/krex_3.9/lib/python3.9/site-packages/torch/nn/functional.py:780: UserWarning: Note that order of the arguments: ceil_mode and return_indices will changeto match the args list in nn.MaxPool2d in a future release.\n",
      "  warnings.warn(\"Note that order of the arguments: ceil_mode and return_indices will change\"\n"
     ]
    }
   ],
   "source": [
    "i = 5\n",
    "print_image(X_test[i])\n",
    "print(y_test[i])\n",
    "a = torch.Tensor(X_test[i]).reshape(-1,28,28,3)\n",
    "print(model(torch.Tensor(a)))\n",
    "print(a[0,10,10,:])"
   ]
  },
  {
   "cell_type": "code",
   "execution_count": null,
   "metadata": {},
   "outputs": [],
   "source": []
  },
  {
   "cell_type": "code",
   "execution_count": 74,
   "metadata": {},
   "outputs": [],
   "source": [
    "from torch.utils.data import Dataset, DataLoader\n",
    "import os\n",
    "class ImageDataset(Dataset):\n",
    "    \"\"\" Image shape: 28x28x3 \"\"\"\n",
    "\n",
    "    def __init__(self, root_dir, fmt=':06d', extension='.png'):\n",
    "        self.root_dir = root_dir\n",
    "        self.fmtstr = '{' + fmt + '}' + extension\n",
    "\n",
    "    def __len__(self):\n",
    "        return len(os.listdir(self.root_dir))\n",
    "\n",
    "    def __getitem__(self, idx):\n",
    "        if torch.is_tensor(idx):\n",
    "            idx = idx.tolist()\n",
    "\n",
    "        img_name = self.fmtstr.format(idx)\n",
    "        img_path = os.path.join(self.root_dir, img_name)\n",
    "        img = plt.imread(img_path)\n",
    "        data = torch.from_numpy(img)\n",
    "        return data\n",
    "    \n",
    "    \n"
   ]
  },
  {
   "cell_type": "code",
   "execution_count": 75,
   "metadata": {},
   "outputs": [],
   "source": [
    "test_data = ImageDataset('../dataset/test_img/')\n",
    "\n"
   ]
  },
  {
   "cell_type": "code",
   "execution_count": 76,
   "metadata": {},
   "outputs": [],
   "source": [
    "test_loader = torch.utils.data.DataLoader(test_data, batch_size=1)"
   ]
  },
  {
   "cell_type": "code",
   "execution_count": 77,
   "metadata": {},
   "outputs": [],
   "source": [
    "# for x in test_loader:\n",
    "#   print_image(x.reshape(28,28,3))"
   ]
  },
  {
   "cell_type": "code",
   "execution_count": 78,
   "metadata": {},
   "outputs": [],
   "source": [
    "def inference(data_loader, model):\n",
    "    \"\"\" model inference \"\"\"\n",
    "\n",
    "    model.eval()\n",
    "    preds = []\n",
    "\n",
    "    with torch.no_grad():\n",
    "        for X in data_loader:\n",
    "            y_hat = model(X)\n",
    "            # print(y_hat.shape)\n",
    "            y_hat.argmax()\n",
    "            # print(y_hat)\n",
    "            _, predicted = torch.max(y_hat, 1)\n",
    "            # print(predicted)\n",
    "            preds.extend(map(lambda t: t.item(), predicted))\n",
    "            # print(len(preds))\n",
    "\n",
    "    return preds"
   ]
  },
  {
   "cell_type": "code",
   "execution_count": 79,
   "metadata": {},
   "outputs": [
    {
     "name": "stdout",
     "output_type": "stream",
     "text": [
      "[7, 3, 1, 0, 4, 1, 4, 9, 5, 9, 0, 6, 9, 0, 1, 5, 9, 7, 3, 4, 9, 6, 6, 5, 4, 0, 7, 4]\n"
     ]
    }
   ],
   "source": [
    "preds = inference(test_loader, model)\n",
    "true = [7,2,1,0,4,1,4,9,5,9,0,6,9,0,1,5,9,7,3,4,9,6,6,5,4,0,7,4]\n",
    "print(preds)"
   ]
  },
  {
   "cell_type": "code",
   "execution_count": 80,
   "metadata": {},
   "outputs": [
    {
     "data": {
      "text/plain": [
       "0.9642857142857143"
      ]
     },
     "execution_count": 80,
     "metadata": {},
     "output_type": "execute_result"
    }
   ],
   "source": [
    "from sklearn.metrics import accuracy_score\n",
    "accuracy_score(true, preds)"
   ]
  },
  {
   "cell_type": "code",
   "execution_count": 81,
   "metadata": {},
   "outputs": [
    {
     "data": {
      "text/plain": [
       "(array([1]),)"
      ]
     },
     "execution_count": 81,
     "metadata": {},
     "output_type": "execute_result"
    }
   ],
   "source": [
    "np.where(np.array(preds)!=np.array(true))"
   ]
  },
  {
   "cell_type": "code",
   "execution_count": 82,
   "metadata": {},
   "outputs": [],
   "source": []
  },
  {
   "cell_type": "code",
   "execution_count": 83,
   "metadata": {},
   "outputs": [
    {
     "data": {
      "text/plain": [
       "MyModule(\n",
       "  (layer1): Sequential(\n",
       "    (0): Sequential(\n",
       "      (0): Conv2d(3, 32, kernel_size=(3, 3), stride=(1, 1))\n",
       "      (1): BatchNorm2d(32, eps=1e-05, momentum=0.1, affine=True, track_running_stats=True)\n",
       "      (2): ReLU()\n",
       "    )\n",
       "    (1): Sequential(\n",
       "      (0): Conv2d(32, 32, kernel_size=(3, 3), stride=(1, 1))\n",
       "      (1): BatchNorm2d(32, eps=1e-05, momentum=0.1, affine=True, track_running_stats=True)\n",
       "      (2): ReLU()\n",
       "    )\n",
       "    (2): MaxPool2d(kernel_size=2, stride=2, padding=0, dilation=1, ceil_mode=True)\n",
       "  )\n",
       "  (layer2): Sequential(\n",
       "    (0): Sequential(\n",
       "      (0): Conv2d(32, 64, kernel_size=(3, 3), stride=(1, 1))\n",
       "      (1): BatchNorm2d(64, eps=1e-05, momentum=0.1, affine=True, track_running_stats=True)\n",
       "      (2): ReLU()\n",
       "    )\n",
       "    (1): Sequential(\n",
       "      (0): Conv2d(64, 64, kernel_size=(3, 3), stride=(1, 1))\n",
       "      (1): BatchNorm2d(64, eps=1e-05, momentum=0.1, affine=True, track_running_stats=True)\n",
       "      (2): ReLU()\n",
       "    )\n",
       "    (2): MaxPool2d(kernel_size=2, stride=2, padding=0, dilation=1, ceil_mode=True)\n",
       "  )\n",
       "  (layer3): Sequential(\n",
       "    (0): Sequential(\n",
       "      (0): Conv2d(64, 128, kernel_size=(3, 3), stride=(1, 1), padding=(1, 1))\n",
       "      (1): BatchNorm2d(128, eps=1e-05, momentum=0.1, affine=True, track_running_stats=True)\n",
       "      (2): ReLU()\n",
       "    )\n",
       "    (1): Sequential(\n",
       "      (0): Conv2d(128, 128, kernel_size=(3, 3), stride=(1, 1))\n",
       "      (1): BatchNorm2d(128, eps=1e-05, momentum=0.1, affine=True, track_running_stats=True)\n",
       "      (2): ReLU()\n",
       "    )\n",
       "    (2): MaxPool2d(kernel_size=2, stride=2, padding=0, dilation=1, ceil_mode=True)\n",
       "  )\n",
       "  (layer4): Sequential(\n",
       "    (0): Linear(in_features=128, out_features=1024, bias=True)\n",
       "    (1): BatchNorm1d(1024, eps=1e-05, momentum=0.1, affine=True, track_running_stats=True)\n",
       "    (2): ReLU()\n",
       "    (3): Dropout(p=0.5, inplace=False)\n",
       "  )\n",
       "  (layer5): Sequential(\n",
       "    (0): Linear(in_features=1024, out_features=800, bias=True)\n",
       "    (1): BatchNorm1d(800, eps=1e-05, momentum=0.1, affine=True, track_running_stats=True)\n",
       "    (2): ReLU()\n",
       "    (3): Dropout(p=0.5, inplace=False)\n",
       "  )\n",
       "  (layer6): Linear(in_features=800, out_features=10, bias=True)\n",
       ")"
      ]
     },
     "execution_count": 83,
     "metadata": {},
     "output_type": "execute_result"
    }
   ],
   "source": [
    "model.eval()"
   ]
  },
  {
   "cell_type": "code",
   "execution_count": 139,
   "metadata": {},
   "outputs": [],
   "source": [
    "def inf(data_loader, model):\n",
    "    \"\"\" model inference \"\"\"\n",
    "\n",
    "    model.eval()\n",
    "    preds = []\n",
    "    y_list =[]\n",
    "    with torch.no_grad():\n",
    "        for x,y in data_loader:\n",
    "            x = x\n",
    "            y_hat = model(x)\n",
    "            # print(y_hat.shape)\n",
    "            y_hat.argmax()\n",
    "            # print(y_hat)\n",
    "            _, predicted = torch.max(y_hat, 1)\n",
    "            # print(predicted)\n",
    "            preds.extend(map(lambda t: t.item(), predicted))\n",
    "            y_list.extend(y.cpu())\n",
    "            # print(len(preds))\n",
    "\n",
    "    return preds, y_list"
   ]
  },
  {
   "cell_type": "code",
   "execution_count": 140,
   "metadata": {},
   "outputs": [
    {
     "data": {
      "text/plain": [
       "<All keys matched successfully>"
      ]
     },
     "execution_count": 140,
     "metadata": {},
     "output_type": "execute_result"
    }
   ],
   "source": [
    "model = MyModule().to(\"cuda:0\")\n",
    "model.load_state_dict(torch.load('./model_AUG/HyperParams-0.001_0.85_0.005_checkpoint.pt'))"
   ]
  },
  {
   "cell_type": "code",
   "execution_count": 141,
   "metadata": {},
   "outputs": [
    {
     "name": "stderr",
     "output_type": "stream",
     "text": [
      "/home/krex/anaconda3/envs/krex_3.9/lib/python3.9/site-packages/torch/nn/functional.py:780: UserWarning: Note that order of the arguments: ceil_mode and return_indices will changeto match the args list in nn.MaxPool2d in a future release.\n",
      "  warnings.warn(\"Note that order of the arguments: ceil_mode and return_indices will change\"\n"
     ]
    }
   ],
   "source": [
    "preds ,y = inf(valid_dl,model)"
   ]
  },
  {
   "cell_type": "code",
   "execution_count": 142,
   "metadata": {},
   "outputs": [
    {
     "data": {
      "text/plain": [
       "15000"
      ]
     },
     "execution_count": 142,
     "metadata": {},
     "output_type": "execute_result"
    }
   ],
   "source": [
    "len(y)"
   ]
  },
  {
   "cell_type": "code",
   "execution_count": 143,
   "metadata": {},
   "outputs": [
    {
     "data": {
      "text/plain": [
       "15000"
      ]
     },
     "execution_count": 143,
     "metadata": {},
     "output_type": "execute_result"
    }
   ],
   "source": [
    "len(preds)"
   ]
  },
  {
   "cell_type": "code",
   "execution_count": 144,
   "metadata": {},
   "outputs": [
    {
     "data": {
      "text/plain": [
       "0.9998666666666667"
      ]
     },
     "execution_count": 144,
     "metadata": {},
     "output_type": "execute_result"
    }
   ],
   "source": [
    "from sklearn.metrics import accuracy_score\n",
    "accuracy_score(y, preds)"
   ]
  },
  {
   "cell_type": "code",
   "execution_count": null,
   "metadata": {},
   "outputs": [],
   "source": []
  }
 ],
 "metadata": {
  "interpreter": {
   "hash": "b0132ac7c2008b7777d1fd330dfbea0832b8c9c8cec7b99f3c9d9b2f515b4c41"
  },
  "kernelspec": {
   "display_name": "Python 3.9.12 ('krex_3.9')",
   "language": "python",
   "name": "python3"
  },
  "language_info": {
   "codemirror_mode": {
    "name": "ipython",
    "version": 3
   },
   "file_extension": ".py",
   "mimetype": "text/x-python",
   "name": "python",
   "nbconvert_exporter": "python",
   "pygments_lexer": "ipython3",
   "version": "3.9.12"
  },
  "orig_nbformat": 4
 },
 "nbformat": 4,
 "nbformat_minor": 2
}
